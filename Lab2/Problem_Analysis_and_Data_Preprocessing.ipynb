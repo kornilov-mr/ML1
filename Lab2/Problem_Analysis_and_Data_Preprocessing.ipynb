{
 "cells": [
  {
   "cell_type": "markdown",
   "metadata": {
    "id": "0WhpMgiS1o5A"
   },
   "source": [
    "# Data Preprocessing\n",
    "\n",
    "The goal of this lab is to introduce you to data preprocessing techniques in order to make your data suitable for applying a learning algorithm.\n",
    "\n",
    "## 1. Handling Missing Values\n",
    "\n",
    "A common (and very unfortunate) data property is the ocurrence of missing and erroneous values in multiple features in datasets. For this exercise we will be using a data set about abalone snails.\n",
    "The data set is contained in the Zip file you downloaded from Moodle (abalone.csv).\n",
    "\n",
    "To determine the age of a abalone snail you have to kill the snail and count the annual\n",
    "rings. You are told to estimate the age of a snail on the basis of the following attributes:\n",
    "1. type: male (0), female (1) and infant (2)\n",
    "2. length in mm\n",
    "3. width in mm\n",
    "4. height in mm\n",
    "5. total weight in grams\n",
    "6. weight of the meat in grams\n",
    "7. drained weight in grams\n",
    "8. weight of the shell in grams\n",
    "9. number of annual rings (number of rings +1, 5 yields age)\n",
    "\n",
    "However, the data is incomplete. Missing values are marked with −1."
   ]
  },
  {
   "cell_type": "code",
   "metadata": {
    "scrolled": true,
    "colab": {
     "base_uri": "https://localhost:8080/",
     "height": 206
    },
    "id": "aTRoZnye1o5D",
    "outputId": "3b2669b0-1ea1-46d6-b768-638722442986",
    "ExecuteTime": {
     "end_time": "2025-04-18T10:54:28.006606Z",
     "start_time": "2025-04-18T10:54:27.963679Z"
    }
   },
   "source": [
    "import pandas as pd\n",
    "# load data \n",
    "df = pd.read_csv(\"C:\\\\Users\\\\ThinkPad\\\\PycharmProjects\\\\ML1\\\\Lab2\\\\abalone.csv\") #Should this not work please use the csv that was part of the zip file.\n",
    "df.columns=['type','length','width','height','total_weight','meat_weight','drained_weight','shell_weight','num_rings']\n",
    "df.head()"
   ],
   "outputs": [
    {
     "data": {
      "text/plain": [
       "   type  length  width  height  total_weight  meat_weight  drained_weight  \\\n",
       "0     0   0.350  0.265   0.090        0.2255       0.0995          0.0485   \n",
       "1     1   0.530  0.420   0.135        0.6770       0.2565          0.1415   \n",
       "2     0   0.440  0.365   0.125        0.5160       0.2155          0.1140   \n",
       "3     2  -1.000  0.255   0.080        0.2050       0.0895          0.0395   \n",
       "4     2   0.425  0.300   0.095        0.3515       0.1410          0.0775   \n",
       "\n",
       "   shell_weight  num_rings  \n",
       "0         0.070         -1  \n",
       "1         0.210          9  \n",
       "2         0.155         10  \n",
       "3         0.055          7  \n",
       "4         0.120          8  "
      ],
      "text/html": [
       "<div>\n",
       "<style scoped>\n",
       "    .dataframe tbody tr th:only-of-type {\n",
       "        vertical-align: middle;\n",
       "    }\n",
       "\n",
       "    .dataframe tbody tr th {\n",
       "        vertical-align: top;\n",
       "    }\n",
       "\n",
       "    .dataframe thead th {\n",
       "        text-align: right;\n",
       "    }\n",
       "</style>\n",
       "<table border=\"1\" class=\"dataframe\">\n",
       "  <thead>\n",
       "    <tr style=\"text-align: right;\">\n",
       "      <th></th>\n",
       "      <th>type</th>\n",
       "      <th>length</th>\n",
       "      <th>width</th>\n",
       "      <th>height</th>\n",
       "      <th>total_weight</th>\n",
       "      <th>meat_weight</th>\n",
       "      <th>drained_weight</th>\n",
       "      <th>shell_weight</th>\n",
       "      <th>num_rings</th>\n",
       "    </tr>\n",
       "  </thead>\n",
       "  <tbody>\n",
       "    <tr>\n",
       "      <th>0</th>\n",
       "      <td>0</td>\n",
       "      <td>0.350</td>\n",
       "      <td>0.265</td>\n",
       "      <td>0.090</td>\n",
       "      <td>0.2255</td>\n",
       "      <td>0.0995</td>\n",
       "      <td>0.0485</td>\n",
       "      <td>0.070</td>\n",
       "      <td>-1</td>\n",
       "    </tr>\n",
       "    <tr>\n",
       "      <th>1</th>\n",
       "      <td>1</td>\n",
       "      <td>0.530</td>\n",
       "      <td>0.420</td>\n",
       "      <td>0.135</td>\n",
       "      <td>0.6770</td>\n",
       "      <td>0.2565</td>\n",
       "      <td>0.1415</td>\n",
       "      <td>0.210</td>\n",
       "      <td>9</td>\n",
       "    </tr>\n",
       "    <tr>\n",
       "      <th>2</th>\n",
       "      <td>0</td>\n",
       "      <td>0.440</td>\n",
       "      <td>0.365</td>\n",
       "      <td>0.125</td>\n",
       "      <td>0.5160</td>\n",
       "      <td>0.2155</td>\n",
       "      <td>0.1140</td>\n",
       "      <td>0.155</td>\n",
       "      <td>10</td>\n",
       "    </tr>\n",
       "    <tr>\n",
       "      <th>3</th>\n",
       "      <td>2</td>\n",
       "      <td>-1.000</td>\n",
       "      <td>0.255</td>\n",
       "      <td>0.080</td>\n",
       "      <td>0.2050</td>\n",
       "      <td>0.0895</td>\n",
       "      <td>0.0395</td>\n",
       "      <td>0.055</td>\n",
       "      <td>7</td>\n",
       "    </tr>\n",
       "    <tr>\n",
       "      <th>4</th>\n",
       "      <td>2</td>\n",
       "      <td>0.425</td>\n",
       "      <td>0.300</td>\n",
       "      <td>0.095</td>\n",
       "      <td>0.3515</td>\n",
       "      <td>0.1410</td>\n",
       "      <td>0.0775</td>\n",
       "      <td>0.120</td>\n",
       "      <td>8</td>\n",
       "    </tr>\n",
       "  </tbody>\n",
       "</table>\n",
       "</div>"
      ]
     },
     "execution_count": 9,
     "metadata": {},
     "output_type": "execute_result"
    }
   ],
   "execution_count": 9
  },
  {
   "cell_type": "markdown",
   "metadata": {
    "id": "Q_KMa47j1o5E"
   },
   "source": [
    "### Exercise 1.1\n",
    "\n",
    "Compute the mean of of each numeric column and the counts of each categorical column, excluding the missing values."
   ]
  },
  {
   "cell_type": "code",
   "metadata": {
    "id": "-dCq2-NW1o5F",
    "ExecuteTime": {
     "end_time": "2025-04-18T10:57:06.389567Z",
     "start_time": "2025-04-18T10:57:06.370173Z"
    }
   },
   "source": [
    "##################\n",
    "#INSERT CODE HERE#\n",
    "##################\n",
    "from utils.formating import format_title_string\n",
    "\n",
    "df.replace(-1, pd.NA, inplace=True)\n",
    "\n",
    "numeric_columns = df.columns.drop('type')\n",
    "print(df[numeric_columns].mean(skipna=True))\n",
    "print(df['type'].value_counts())"
   ],
   "outputs": [
    {
     "name": "stdout",
     "output_type": "stream",
     "text": [
      "length            0.523692\n",
      "width             0.407955\n",
      "height             0.13961\n",
      "total_weight      0.828843\n",
      "meat_weight       0.359263\n",
      "drained_weight    0.180249\n",
      "shell_weight      0.238604\n",
      "num_rings         9.921756\n",
      "dtype: object\n",
      "type\n",
      "0    1500\n",
      "2    1310\n",
      "1    1279\n",
      "Name: count, dtype: int64\n"
     ]
    }
   ],
   "execution_count": 12
  },
  {
   "cell_type": "markdown",
   "metadata": {
    "id": "3I0CjV2c1o5G"
   },
   "source": [
    "### Exercise 1.2\n",
    "\n",
    "Compute the median of each numeric column,  excluding the missing values."
   ]
  },
  {
   "cell_type": "code",
   "metadata": {
    "id": "sw_28SAt1o5G",
    "ExecuteTime": {
     "end_time": "2025-04-18T10:57:57.305344Z",
     "start_time": "2025-04-18T10:57:57.284349Z"
    }
   },
   "source": [
    "##################\n",
    "#INSERT CODE HERE#\n",
    "##################\n",
    "df.replace(-1, pd.NA, inplace=True)\n",
    "\n",
    "numeric_columns = df.columns.drop('type')\n",
    "print(df[numeric_columns].median(skipna=True))\n"
   ],
   "outputs": [
    {
     "name": "stdout",
     "output_type": "stream",
     "text": [
      "length              0.545\n",
      "width               0.425\n",
      "height               0.14\n",
      "total_weight      0.80175\n",
      "meat_weight         0.336\n",
      "drained_weight     0.1705\n",
      "shell_weight       0.2335\n",
      "num_rings             9.0\n",
      "dtype: object\n"
     ]
    }
   ],
   "execution_count": 14
  },
  {
   "cell_type": "markdown",
   "metadata": {
    "id": "DMltOlp_1o5G"
   },
   "source": [
    "### Exercise 1.3\n",
    "\n",
    "Handle the missing values in a way that you find suitable. Think about different ways. Discuss dis-/advantages of your approach. Argue your choices.\n"
   ]
  },
  {
   "cell_type": "code",
   "execution_count": null,
   "metadata": {
    "id": "gxDCHrb31o5G"
   },
   "outputs": [],
   "source": [
    "##################\n",
    "#INSERT CODE HERE#\n",
    "##################"
   ]
  },
  {
   "cell_type": "markdown",
   "metadata": {
    "id": "VpklBouL1o5H"
   },
   "source": [
    "### Exercise 1.4\n",
    "\n",
    "Perform Z-score normalization on every column (except the type of course!)"
   ]
  },
  {
   "cell_type": "code",
   "metadata": {
    "id": "HbkY--hk1o5I",
    "ExecuteTime": {
     "end_time": "2025-04-18T11:00:11.711573Z",
     "start_time": "2025-04-18T11:00:11.683194Z"
    }
   },
   "source": [
    "##################\n",
    "#INSERT CODE HERE#\n",
    "##################\n",
    "df.replace(-1, pd.NA, inplace=True)\n",
    "\n",
    "numeric_columns = df.columns.drop('type')\n",
    "numeric_df = df[numeric_columns].median(skipna=True)\n",
    "\n",
    "normalized_df = (numeric_df - numeric_df.mean(skipna=True)) / numeric_df.std(skipna=True)\n",
    "\n",
    "normalized_df['type'] = df['type']\n",
    "\n",
    "print(normalized_df.head())"
   ],
   "outputs": [
    {
     "name": "stdout",
     "output_type": "stream",
     "text": [
      "length         -0.298273\n",
      "width          -0.337543\n",
      "height         -0.430807\n",
      "total_weight   -0.214253\n",
      "meat_weight    -0.366667\n",
      "dtype: object\n"
     ]
    }
   ],
   "execution_count": 15
  },
  {
   "cell_type": "markdown",
   "metadata": {
    "id": "krOpdi_i1o5J"
   },
   "source": [
    "## 2. Preprocessing text (Optional)\n",
    "\n",
    "One possible way to transform text documents into vectors of numeric attributes is to use the TF-IDF representation. We will experiment with this representation using the 20 Newsgroup data set. The data set contains postings on 20 different topics. The classification problem is to decide which of the topics a posting falls into. Here, we will only consider postings about medicine and space."
   ]
  },
  {
   "cell_type": "code",
   "execution_count": null,
   "metadata": {
    "id": "TmhZ8_FC1o5J"
   },
   "outputs": [],
   "source": [
    "from sklearn.datasets import fetch_20newsgroups\n",
    "\n",
    "\n",
    "categories = ['sci.med', 'sci.space']\n",
    "raw_data = fetch_20newsgroups(subset='train', categories=categories, shuffle=True, random_state=42)\n",
    "print(f'The index of each category is: {[(i,target) for i,target in enumerate(raw_data.target_names)]}')"
   ]
  },
  {
   "cell_type": "markdown",
   "metadata": {
    "id": "3kWdpZz61o5K"
   },
   "source": [
    "Check out some of the postings, might find some funny ones!"
   ]
  },
  {
   "cell_type": "code",
   "execution_count": null,
   "metadata": {
    "id": "CFZgvye31o5K"
   },
   "outputs": [],
   "source": [
    "import numpy as np\n",
    "idx = np.random.randint(0, len(raw_data.data))\n",
    "print (f'This is a {raw_data.target_names[raw_data.target[idx]]} email.\\n')\n",
    "print (f'There are {len(raw_data.data)} emails.\\n')\n",
    "print(raw_data.data[idx])"
   ]
  },
  {
   "cell_type": "markdown",
   "metadata": {
    "id": "ytNRgBtD1o5L"
   },
   "source": [
    "Lets pick the first 10 postings from each category"
   ]
  },
  {
   "cell_type": "code",
   "execution_count": null,
   "metadata": {
    "id": "7XjYd0ML1o5L"
   },
   "outputs": [],
   "source": [
    "idxs_med = np.flatnonzero(raw_data.target == 0)\n",
    "idxs_space = np.flatnonzero(raw_data.target == 1)\n",
    "idxs = np.concatenate([idxs_med[:10],idxs_space[:10]])\n",
    "data = np.array(raw_data.data)\n",
    "data = data[idxs]"
   ]
  },
  {
   "cell_type": "markdown",
   "metadata": {
    "id": "tY4YffVy1o5M"
   },
   "source": [
    "<a href=\"http://www.nltk.org/\">NLTK</a> is a toolkit for natural language processing. Take some time to install it and go through this <a href=\"http://www.slideshare.net/japerk/nltk-in-20-minutes\">short tutorial/presentation</a>. (or use e.g. Google colab where the package is prepared already)\n",
    "\n",
    "The downloaded package below is a tokenizer that divides a text into a list of sentences, by using an unsupervised algorithm to build a model for abbreviation words, collocations, and words that start sentences."
   ]
  },
  {
   "cell_type": "code",
   "execution_count": null,
   "metadata": {
    "id": "GhpnijnB1o5M"
   },
   "outputs": [],
   "source": [
    "import nltk\n",
    "import itertools\n",
    "nltk.download('punkt')\n",
    "\n",
    "# Tokenize the sentences into words\n",
    "tokenized_sentences = [nltk.word_tokenize(sent) for sent in data]\n",
    "vocabulary_size = 1000\n",
    "unknown_token = 'unknown'"
   ]
  },
  {
   "cell_type": "code",
   "execution_count": null,
   "metadata": {
    "id": "LvKCOBjx1o5M"
   },
   "outputs": [],
   "source": [
    "# Count the word frequencies\n",
    "word_freq = nltk.FreqDist(itertools.chain(*tokenized_sentences))\n",
    "print (f\"Found {len(word_freq.items())} unique words tokens.\")"
   ]
  },
  {
   "cell_type": "code",
   "execution_count": null,
   "metadata": {
    "id": "yw_h_8Vo1o5N"
   },
   "outputs": [],
   "source": [
    "# Get the most common words and build index_to_word and word_to_index vectors\n",
    "vocab = word_freq.most_common(vocabulary_size-1)\n",
    "index_to_word = [x[0] for x in vocab]\n",
    "index_to_word.append(unknown_token)\n",
    "word_to_index = dict([(w,i) for i,w in enumerate(index_to_word)])\n",
    " \n",
    "print (f\"Using vocabulary size {vocabulary_size}.\" )\n",
    "print (f\"The least frequent word in our vocabulary is '{vocab[-1][0]}' and appeared {vocab[-1][1]} times.\")"
   ]
  },
  {
   "cell_type": "markdown",
   "metadata": {
    "id": "0CxBYzBs1o5N"
   },
   "source": [
    "### Exercise 2.1\n",
    "\n",
    "Code your own TF-IDF representation function and use it on this dataset. (Don't use code from libraries. Build your own function with Numpy/Pandas). Use the formular TFIDF = TF * (IDF+1). The effect of adding “1” to the idf in the equation above is that terms with zero idf, i.e., terms that occur in all documents in a training set, will not be entirely ignored. The term frequency is the raw count of a term in a document. The inverse document frequency is the natural logarithm of the inverse fraction of the documents that contain the word."
   ]
  },
  {
   "cell_type": "code",
   "execution_count": null,
   "metadata": {
    "id": "LAQX0zw11o5N"
   },
   "outputs": [],
   "source": [
    "from sklearn.feature_extraction.text import CountVectorizer\n",
    "countvec = CountVectorizer()\n",
    "df = pd.DataFrame(countvec.fit_transform(data).toarray(), columns=countvec.get_feature_names_out())\n",
    "\n",
    "def tfidf(df):\n",
    "    \n",
    "    ##################\n",
    "    #INSERT CODE HERE#\n",
    "    ##################\n",
    "    return None\n",
    "    \n",
    "    \n",
    "rep = tfidf(df)\n",
    "\n",
    "# Check if your implementation is correct\n",
    "from sklearn.feature_extraction.text import TfidfVectorizer\n",
    "vectorizer = TfidfVectorizer(norm=None, smooth_idf=False, use_idf=True)\n",
    "X_train = pd.DataFrame(vectorizer.fit_transform(data).toarray(), columns=countvec.get_feature_names_out())\n",
    "answer=['No','Yes']\n",
    "epsilon = 0.0001\n",
    "if rep is None: \n",
    "  print (f'Is this implementation correct?\\nAnswer: {answer[0]}')\n",
    "if rep is not None:\n",
    "  print (f'Is this implementation correct?\\nAnswer: {answer[1*np.all((X_train - rep) < epsilon)]}')"
   ]
  },
  {
   "cell_type": "code",
   "source": [
    "# an example of what to do with these similarities:\n",
    "\n",
    "\n",
    "# analysis with tf-idf\n",
    "from sklearn.metrics.pairwise import cosine_similarity\n",
    "\n",
    "similiarities = cosine_similarity(rep, rep) # measure of the similarity of the direction of two vectors"
   ],
   "metadata": {
    "id": "yvgshAez8XY2"
   },
   "execution_count": null,
   "outputs": []
  },
  {
   "cell_type": "code",
   "source": [
    "np.fill_diagonal(similiarities, 0)\n",
    "max_ind = np.unravel_index(similiarities.argmax(), similiarities.shape)\n",
    "similiarities[max_ind] # highest similarity of two documents"
   ],
   "metadata": {
    "id": "39RjLr9J8b8f"
   },
   "execution_count": null,
   "outputs": []
  }
 ],
 "metadata": {
  "kernelspec": {
   "display_name": "Python 3",
   "language": "python",
   "name": "python3"
  },
  "language_info": {
   "codemirror_mode": {
    "name": "ipython",
    "version": 3
   },
   "file_extension": ".py",
   "mimetype": "text/x-python",
   "name": "python",
   "nbconvert_exporter": "python",
   "pygments_lexer": "ipython3",
   "version": "3.8.5"
  },
  "colab": {
   "name": "Problem_Analysis_and_Data_Preprocessing.ipynb",
   "provenance": [],
   "collapsed_sections": []
  }
 },
 "nbformat": 4,
 "nbformat_minor": 0
}
