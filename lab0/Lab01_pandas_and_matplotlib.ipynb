{
 "cells": [
  {
   "cell_type": "markdown",
   "metadata": {
    "id": "j8-gko8xakOl"
   },
   "source": [
    "## Learning Pandas and Matplotlib"
   ]
  },
  {
   "cell_type": "markdown",
   "metadata": {
    "collapsed": true,
    "id": "iAuLtQaoakOn"
   },
   "source": [
    "Pandas is Pythons library that enables broad possibilities for data analysis.\n",
    "By using Pandas it is very easy to upload, manage and analyse data from different tables by using SQL-like commands. Moreover, in connection with the libraries Matplotlib and Seaborn, Pandas gives broad possibilites to visualise the data."
   ]
  },
  {
   "cell_type": "code",
   "metadata": {
    "id": "aHDfsOWGakOo",
    "ExecuteTime": {
     "end_time": "2025-04-11T13:02:00.617354Z",
     "start_time": "2025-04-11T13:02:00.610316Z"
    }
   },
   "source": [
    "#First import the libraries/packages we need\n",
    "import pandas as pd\n",
    "import numpy as np\n",
    "\n",
    "from matplotlib import pyplot as plt\n",
    "from matplotlib.pyplot import rcParams\n",
    "\n",
    "from utils.formating import format_title_string\n",
    "\n",
    "rcParams[\"figure.figsize\"] = 8, 5\n",
    "import seaborn as sns\n",
    "\n",
    "from utils.formating import format_title_string"
   ],
   "outputs": [],
   "execution_count": 2
  },
  {
   "cell_type": "markdown",
   "metadata": {
    "id": "nV8LcD4xakOp"
   },
   "source": [
    "We study the main methods of Pandas and Matplotlib packages by working with the dataset that describes the churn rate of the customers of a telecom company. "
   ]
  },
  {
   "cell_type": "markdown",
   "metadata": {
    "id": "QkwfvpoWakOp"
   },
   "source": [
    "<b>Exercise 1:</b>\n",
    "\n",
    "Read the data from the file \"telecom_churn.csv\" and display the first 5 rows by using the method \"head\". <b> Hint :</b> The method read_csv can be useful"
   ]
  },
  {
   "cell_type": "code",
   "metadata": {
    "id": "_OHz_wqyakOq",
    "ExecuteTime": {
     "end_time": "2025-04-11T13:02:00.726396Z",
     "start_time": "2025-04-11T13:02:00.655848Z"
    }
   },
   "source": [
    "### Write Your code here ###\n",
    "table = pd.read_csv(\"./telecom_churn.csv\")\n",
    "print(table.head());"
   ],
   "outputs": [
    {
     "name": "stdout",
     "output_type": "stream",
     "text": [
      "  State  Account length  Area code International plan Voice mail plan  \\\n",
      "0    KS             128        415                 No             Yes   \n",
      "1    OH             107        415                 No             Yes   \n",
      "2    NJ             137        415                 No              No   \n",
      "3    OH              84        408                Yes              No   \n",
      "4    OK              75        415                Yes              No   \n",
      "\n",
      "   Number vmail messages  Total day minutes  Total day calls  \\\n",
      "0                     25              265.1              110   \n",
      "1                     26              161.6              123   \n",
      "2                      0              243.4              114   \n",
      "3                      0              299.4               71   \n",
      "4                      0              166.7              113   \n",
      "\n",
      "   Total day charge  Total eve minutes  Total eve calls  Total eve charge  \\\n",
      "0             45.07              197.4               99             16.78   \n",
      "1             27.47              195.5              103             16.62   \n",
      "2             41.38              121.2              110             10.30   \n",
      "3             50.90               61.9               88              5.26   \n",
      "4             28.34              148.3              122             12.61   \n",
      "\n",
      "   Total night minutes  Total night calls  Total night charge  \\\n",
      "0                244.7                 91               11.01   \n",
      "1                254.4                103               11.45   \n",
      "2                162.6                104                7.32   \n",
      "3                196.9                 89                8.86   \n",
      "4                186.9                121                8.41   \n",
      "\n",
      "   Total intl minutes  Total intl calls  Total intl charge  \\\n",
      "0                10.0                 3               2.70   \n",
      "1                13.7                 3               3.70   \n",
      "2                12.2                 5               3.29   \n",
      "3                 6.6                 7               1.78   \n",
      "4                10.1                 3               2.73   \n",
      "\n",
      "   Customer service calls  Churn  \n",
      "0                       1  False  \n",
      "1                       1  False  \n",
      "2                       0  False  \n",
      "3                       2  False  \n",
      "4                       3  False  \n"
     ]
    }
   ],
   "execution_count": 3
  },
  {
   "cell_type": "markdown",
   "metadata": {
    "id": "oRwCQEbhakOq"
   },
   "source": [
    "<b>Exercise 2:</b>\n",
    "\n",
    "Display the size of the data array, information about it, and its main statistical characteristics. <b>Hint:</b> use methods shape, info, describe."
   ]
  },
  {
   "cell_type": "code",
   "metadata": {
    "id": "XP2vrAmzakOq",
    "ExecuteTime": {
     "end_time": "2025-04-11T13:02:00.822816Z",
     "start_time": "2025-04-11T13:02:00.753815Z"
    }
   },
   "source": [
    "### Write Your code here ###\n",
    "print(format_title_string(\"describe method\", 50))\n",
    "print(table.describe())\n",
    "\n",
    "print(format_title_string(\"shape field\", 50))\n",
    "print(table.shape)\n",
    "\n",
    "print(format_title_string(\"info method\", 50))\n",
    "print(table.info())\n"
   ],
   "outputs": [
    {
     "name": "stdout",
     "output_type": "stream",
     "text": [
      "--------------------------------------------------\n",
      "----------------- describe method -----------------\n",
      "--------------------------------------------------\n",
      "\n",
      "       Account length    Area code  Number vmail messages  Total day minutes  \\\n",
      "count     3333.000000  3333.000000            3333.000000        3333.000000   \n",
      "mean       101.064806   437.182418               8.099010         179.775098   \n",
      "std         39.822106    42.371290              13.688365          54.467389   \n",
      "min          1.000000   408.000000               0.000000           0.000000   \n",
      "25%         74.000000   408.000000               0.000000         143.700000   \n",
      "50%        101.000000   415.000000               0.000000         179.400000   \n",
      "75%        127.000000   510.000000              20.000000         216.400000   \n",
      "max        243.000000   510.000000              51.000000         350.800000   \n",
      "\n",
      "       Total day calls  Total day charge  Total eve minutes  Total eve calls  \\\n",
      "count      3333.000000       3333.000000        3333.000000      3333.000000   \n",
      "mean        100.435644         30.562307         200.980348       100.114311   \n",
      "std          20.069084          9.259435          50.713844        19.922625   \n",
      "min           0.000000          0.000000           0.000000         0.000000   \n",
      "25%          87.000000         24.430000         166.600000        87.000000   \n",
      "50%         101.000000         30.500000         201.400000       100.000000   \n",
      "75%         114.000000         36.790000         235.300000       114.000000   \n",
      "max         165.000000         59.640000         363.700000       170.000000   \n",
      "\n",
      "       Total eve charge  Total night minutes  Total night calls  \\\n",
      "count       3333.000000          3333.000000        3333.000000   \n",
      "mean          17.083540           200.872037         100.107711   \n",
      "std            4.310668            50.573847          19.568609   \n",
      "min            0.000000            23.200000          33.000000   \n",
      "25%           14.160000           167.000000          87.000000   \n",
      "50%           17.120000           201.200000         100.000000   \n",
      "75%           20.000000           235.300000         113.000000   \n",
      "max           30.910000           395.000000         175.000000   \n",
      "\n",
      "       Total night charge  Total intl minutes  Total intl calls  \\\n",
      "count         3333.000000         3333.000000       3333.000000   \n",
      "mean             9.039325           10.237294          4.479448   \n",
      "std              2.275873            2.791840          2.461214   \n",
      "min              1.040000            0.000000          0.000000   \n",
      "25%              7.520000            8.500000          3.000000   \n",
      "50%              9.050000           10.300000          4.000000   \n",
      "75%             10.590000           12.100000          6.000000   \n",
      "max             17.770000           20.000000         20.000000   \n",
      "\n",
      "       Total intl charge  Customer service calls  \n",
      "count        3333.000000             3333.000000  \n",
      "mean            2.764581                1.562856  \n",
      "std             0.753773                1.315491  \n",
      "min             0.000000                0.000000  \n",
      "25%             2.300000                1.000000  \n",
      "50%             2.780000                1.000000  \n",
      "75%             3.270000                2.000000  \n",
      "max             5.400000                9.000000  \n",
      "--------------------------------------------------\n",
      "------------------- shape field -------------------\n",
      "--------------------------------------------------\n",
      "\n",
      "(3333, 20)\n",
      "--------------------------------------------------\n",
      "------------------- info method -------------------\n",
      "--------------------------------------------------\n",
      "\n",
      "<class 'pandas.core.frame.DataFrame'>\n",
      "RangeIndex: 3333 entries, 0 to 3332\n",
      "Data columns (total 20 columns):\n",
      " #   Column                  Non-Null Count  Dtype  \n",
      "---  ------                  --------------  -----  \n",
      " 0   State                   3333 non-null   object \n",
      " 1   Account length          3333 non-null   int64  \n",
      " 2   Area code               3333 non-null   int64  \n",
      " 3   International plan      3333 non-null   object \n",
      " 4   Voice mail plan         3333 non-null   object \n",
      " 5   Number vmail messages   3333 non-null   int64  \n",
      " 6   Total day minutes       3333 non-null   float64\n",
      " 7   Total day calls         3333 non-null   int64  \n",
      " 8   Total day charge        3333 non-null   float64\n",
      " 9   Total eve minutes       3333 non-null   float64\n",
      " 10  Total eve calls         3333 non-null   int64  \n",
      " 11  Total eve charge        3333 non-null   float64\n",
      " 12  Total night minutes     3333 non-null   float64\n",
      " 13  Total night calls       3333 non-null   int64  \n",
      " 14  Total night charge      3333 non-null   float64\n",
      " 15  Total intl minutes      3333 non-null   float64\n",
      " 16  Total intl calls        3333 non-null   int64  \n",
      " 17  Total intl charge       3333 non-null   float64\n",
      " 18  Customer service calls  3333 non-null   int64  \n",
      " 19  Churn                   3333 non-null   bool   \n",
      "dtypes: bool(1), float64(8), int64(8), object(3)\n",
      "memory usage: 498.1+ KB\n",
      "None\n"
     ]
    }
   ],
   "execution_count": 4
  },
  {
   "cell_type": "markdown",
   "metadata": {
    "id": "SrWD6ec5akOr"
   },
   "source": [
    "<b>Exercise 3:\n",
    "\n",
    "</b>Convert the column \"Churn\" to the int64 type. <b> Hint:</b> use the astype method \n",
    "\n",
    "Plot the distribution of the churn and  loyal clients in the bar plot. The figure should look like this:\n",
    "\n",
    "<img src=\"dist_churn.png\">"
   ]
  },
  {
   "cell_type": "code",
   "metadata": {
    "id": "0Q5OVlKzakOs",
    "ExecuteTime": {
     "end_time": "2025-04-11T13:02:01.225003Z",
     "start_time": "2025-04-11T13:02:00.853996Z"
    }
   },
   "source": [
    "### Write Your code here ###\n",
    "table[\"Churn\"] = table[\"Churn\"].astype(\"int64\")\n",
    "plt.bar([\"true\", \"false\"], [table[\"Churn\"].sum(), len(table[\"Churn\"]) - table[\"Churn\"].sum()])\n",
    "plt.legend([\"Churn\"])\n",
    "plt.show()"
   ],
   "outputs": [
    {
     "data": {
      "text/plain": [
       "<Figure size 800x500 with 1 Axes>"
      ],
      "image/png": "[encoded data removed]"
     },
     "metadata": {},
     "output_type": "display_data"
    }
   ],
   "execution_count": 5
  },
  {
   "cell_type": "markdown",
   "metadata": {
    "id": "mrShk3AIakOs"
   },
   "source": [
    "### Sorting\n",
    "\n",
    "<b>Exercise 4:</b>\n",
    "\n",
    "Sort the dataframe you have obtained in exercise 3 by the value in \"Total day charge\" in descending/ascending order.\n",
    "Also sort it by using the column \"Churn\" as the primary key and \"Total eve calls\" as the secondary key. Try different combinations of ordering. \n",
    "\n",
    "<b> Hint:</b> use the method sort_values"
   ]
  },
  {
   "cell_type": "code",
   "metadata": {
    "id": "iygYo9eDakOt",
    "ExecuteTime": {
     "end_time": "2025-04-11T13:02:01.353997Z",
     "start_time": "2025-04-11T13:02:01.257996Z"
    }
   },
   "source": [
    "### Write Your code here ###\n",
    "print(format_title_string(\"Total day charge ascending\", 50))\n",
    "print(table.sort_values(by=[\"Total day charge\"], ascending=True))\n",
    "\n",
    "print(format_title_string(\"Total day charge descending\", 50))\n",
    "print(table.sort_values(by=[\"Total day charge\"], ascending=False))\n",
    "\n",
    "print(format_title_string(\"Churn and Total eve calls ascending\", 50))\n",
    "print(table.sort_values(by=[\"Churn\", \"Total eve calls\"], ascending=True))\n",
    "\n",
    "print(format_title_string(\"Total eve calls and Churn ascending\", 50))\n",
    "print(table.sort_values(by=[\"Total eve calls\", \"Churn\"], ascending=True))\n"
   ],
   "outputs": [
    {
     "name": "stdout",
     "output_type": "stream",
     "text": [
      "--------------------------------------------------\n",
      "------------ Total day charge ascending ------------\n",
      "--------------------------------------------------\n",
      "\n",
      "     State  Account length  Area code International plan Voice mail plan  \\\n",
      "1345    SD              98        415                 No              No   \n",
      "1397    VT             101        510                 No              No   \n",
      "2736    OK             127        510                 No             Yes   \n",
      "2753    OH             134        415                 No              No   \n",
      "1986    WI              70        415                 No              No   \n",
      "...    ...             ...        ...                ...             ...   \n",
      "605     MO             112        415                 No              No   \n",
      "156     OH              83        415                 No              No   \n",
      "2594    OH             115        510                Yes              No   \n",
      "985     NY              64        415                Yes              No   \n",
      "365     CO             154        415                 No              No   \n",
      "\n",
      "      Number vmail messages  Total day minutes  Total day calls  \\\n",
      "1345                      0                0.0                0   \n",
      "1397                      0                0.0                0   \n",
      "2736                     27                2.6              113   \n",
      "2753                      0                7.8               86   \n",
      "1986                      0                7.9              100   \n",
      "...                     ...                ...              ...   \n",
      "605                       0              335.5               77   \n",
      "156                       0              337.4              120   \n",
      "2594                      0              345.3               81   \n",
      "985                       0              346.8               55   \n",
      "365                       0              350.8               75   \n",
      "\n",
      "      Total day charge  Total eve minutes  Total eve calls  Total eve charge  \\\n",
      "1345              0.00              159.6              130             13.57   \n",
      "1397              0.00              192.1              119             16.33   \n",
      "2736              0.44              254.0              102             21.59   \n",
      "2753              1.33              171.4              100             14.57   \n",
      "1986              1.34              136.4               83             11.59   \n",
      "...                ...                ...              ...               ...   \n",
      "605              57.04              212.5              109             18.06   \n",
      "156              57.36              227.4              116             19.33   \n",
      "2594             58.70              203.4              106             17.29   \n",
      "985              58.96              249.5               79             21.21   \n",
      "365              59.64              216.5               94             18.40   \n",
      "\n",
      "      Total night minutes  Total night calls  Total night charge  \\\n",
      "1345                167.1                 88                7.52   \n",
      "1397                168.8                 95                7.60   \n",
      "2736                242.7                156               10.92   \n",
      "2753                186.5                 80                8.39   \n",
      "1986                156.6                 89                7.05   \n",
      "...                   ...                ...                 ...   \n",
      "605                 265.0                132               11.93   \n",
      "156                 153.9                114                6.93   \n",
      "2594                217.5                107                9.79   \n",
      "985                 275.4                102               12.39   \n",
      "365                 253.9                100               11.43   \n",
      "\n",
      "      Total intl minutes  Total intl calls  Total intl charge  \\\n",
      "1345                 6.8                 1               1.84   \n",
      "1397                 7.2                 4               1.94   \n",
      "2736                 9.2                 5               2.48   \n",
      "2753                12.9                 2               3.48   \n",
      "1986                12.1                 1               3.27   \n",
      "...                  ...               ...                ...   \n",
      "605                 12.7                 8               3.43   \n",
      "156                 15.8                 7               4.27   \n",
      "2594                11.8                 8               3.19   \n",
      "985                 13.3                 9               3.59   \n",
      "365                 10.1                 9               2.73   \n",
      "\n",
      "      Customer service calls  Churn  \n",
      "1345                       4      1  \n",
      "1397                       1      0  \n",
      "2736                       3      0  \n",
      "2753                       2      0  \n",
      "1986                       0      0  \n",
      "...                      ...    ...  \n",
      "605                        2      1  \n",
      "156                        0      1  \n",
      "2594                       1      1  \n",
      "985                        1      1  \n",
      "365                        1      1  \n",
      "\n",
      "[3333 rows x 20 columns]\n",
      "--------------------------------------------------\n",
      "----------- Total day charge descending -----------\n",
      "--------------------------------------------------\n",
      "\n",
      "     State  Account length  Area code International plan Voice mail plan  \\\n",
      "365     CO             154        415                 No              No   \n",
      "985     NY              64        415                Yes              No   \n",
      "2594    OH             115        510                Yes              No   \n",
      "156     OH              83        415                 No              No   \n",
      "605     MO             112        415                 No              No   \n",
      "...    ...             ...        ...                ...             ...   \n",
      "1986    WI              70        415                 No              No   \n",
      "2753    OH             134        415                 No              No   \n",
      "2736    OK             127        510                 No             Yes   \n",
      "1397    VT             101        510                 No              No   \n",
      "1345    SD              98        415                 No              No   \n",
      "\n",
      "      Number vmail messages  Total day minutes  Total day calls  \\\n",
      "365                       0              350.8               75   \n",
      "985                       0              346.8               55   \n",
      "2594                      0              345.3               81   \n",
      "156                       0              337.4              120   \n",
      "605                       0              335.5               77   \n",
      "...                     ...                ...              ...   \n",
      "1986                      0                7.9              100   \n",
      "2753                      0                7.8               86   \n",
      "2736                     27                2.6              113   \n",
      "1397                      0                0.0                0   \n",
      "1345                      0                0.0                0   \n",
      "\n",
      "      Total day charge  Total eve minutes  Total eve calls  Total eve charge  \\\n",
      "365              59.64              216.5               94             18.40   \n",
      "985              58.96              249.5               79             21.21   \n",
      "2594             58.70              203.4              106             17.29   \n",
      "156              57.36              227.4              116             19.33   \n",
      "605              57.04              212.5              109             18.06   \n",
      "...                ...                ...              ...               ...   \n",
      "1986              1.34              136.4               83             11.59   \n",
      "2753              1.33              171.4              100             14.57   \n",
      "2736              0.44              254.0              102             21.59   \n",
      "1397              0.00              192.1              119             16.33   \n",
      "1345              0.00              159.6              130             13.57   \n",
      "\n",
      "      Total night minutes  Total night calls  Total night charge  \\\n",
      "365                 253.9                100               11.43   \n",
      "985                 275.4                102               12.39   \n",
      "2594                217.5                107                9.79   \n",
      "156                 153.9                114                6.93   \n",
      "605                 265.0                132               11.93   \n",
      "...                   ...                ...                 ...   \n",
      "1986                156.6                 89                7.05   \n",
      "2753                186.5                 80                8.39   \n",
      "2736                242.7                156               10.92   \n",
      "1397                168.8                 95                7.60   \n",
      "1345                167.1                 88                7.52   \n",
      "\n",
      "      Total intl minutes  Total intl calls  Total intl charge  \\\n",
      "365                 10.1                 9               2.73   \n",
      "985                 13.3                 9               3.59   \n",
      "2594                11.8                 8               3.19   \n",
      "156                 15.8                 7               4.27   \n",
      "605                 12.7                 8               3.43   \n",
      "...                  ...               ...                ...   \n",
      "1986                12.1                 1               3.27   \n",
      "2753                12.9                 2               3.48   \n",
      "2736                 9.2                 5               2.48   \n",
      "1397                 7.2                 4               1.94   \n",
      "1345                 6.8                 1               1.84   \n",
      "\n",
      "      Customer service calls  Churn  \n",
      "365                        1      1  \n",
      "985                        1      1  \n",
      "2594                       1      1  \n",
      "156                        0      1  \n",
      "605                        2      1  \n",
      "...                      ...    ...  \n",
      "1986                       0      0  \n",
      "2753                       2      0  \n",
      "2736                       3      0  \n",
      "1397                       1      0  \n",
      "1345                       4      1  \n",
      "\n",
      "[3333 rows x 20 columns]\n",
      "--------------------------------------------------\n",
      "------- Churn and Total eve calls ascending -------\n",
      "--------------------------------------------------\n",
      "\n",
      "     State  Account length  Area code International plan Voice mail plan  \\\n",
      "2932    UT              97        415                 No              No   \n",
      "960     AR               5        415                 No              No   \n",
      "1615    CT              74        408                 No              No   \n",
      "646     WV             153        408                 No             Yes   \n",
      "475     AR              74        510                 No              No   \n",
      "...    ...             ...        ...                ...             ...   \n",
      "1122    NE             159        415                 No              No   \n",
      "1739    NJ              80        415                 No              No   \n",
      "2267    MS              29        510                 No              No   \n",
      "3157    AR             127        415                Yes              No   \n",
      "301     FL             127        415                 No              No   \n",
      "\n",
      "      Number vmail messages  Total day minutes  Total day calls  \\\n",
      "2932                      0              209.2              134   \n",
      "960                       0              199.2              106   \n",
      "1615                      0              157.1               95   \n",
      "646                      28              235.6               74   \n",
      "475                       0              148.5              111   \n",
      "...                     ...                ...              ...   \n",
      "1122                      0              189.1              105   \n",
      "1739                      0              268.7              120   \n",
      "2267                      0              313.2              103   \n",
      "3157                      0              143.2               60   \n",
      "301                       0              266.6              106   \n",
      "\n",
      "      Total day charge  Total eve minutes  Total eve calls  Total eve charge  \\\n",
      "2932             35.56                0.0                0              0.00   \n",
      "960              33.86              187.3               12             15.92   \n",
      "1615             26.71              213.1               36             18.11   \n",
      "646              40.05              227.9               37             19.37   \n",
      "475              25.25              146.5               42             12.45   \n",
      "...                ...                ...              ...               ...   \n",
      "1122             32.15              246.1              147             20.92   \n",
      "1739             45.68              301.0              147             25.59   \n",
      "2267             53.24              216.3              151             18.39   \n",
      "3157             24.34              179.5              159             15.26   \n",
      "301              45.32              264.8              168             22.51   \n",
      "\n",
      "      Total night minutes  Total night calls  Total night charge  \\\n",
      "2932                175.4                 94                7.89   \n",
      "960                 214.0                 85                9.63   \n",
      "1615                280.4                 77               12.62   \n",
      "646                 170.3                103                7.66   \n",
      "475                 289.2                 83               13.01   \n",
      "...                   ...                ...                 ...   \n",
      "1122                242.0                106               10.89   \n",
      "1739                167.0                140                7.52   \n",
      "2267                218.4                106                9.83   \n",
      "3157                171.8                122                7.73   \n",
      "301                 207.2                119                9.32   \n",
      "\n",
      "      Total intl minutes  Total intl calls  Total intl charge  \\\n",
      "2932                11.8                 6               3.19   \n",
      "960                 13.3                 3               3.59   \n",
      "1615                 7.6                 3               2.05   \n",
      "646                 15.4                 9               4.16   \n",
      "475                  9.9                 6               2.67   \n",
      "...                  ...               ...                ...   \n",
      "1122                10.4                 5               2.81   \n",
      "1739                 5.8                 1               1.57   \n",
      "2267                12.8                 4               3.46   \n",
      "3157                 6.2                 4               1.67   \n",
      "301                  5.9                 2               1.59   \n",
      "\n",
      "      Customer service calls  Churn  \n",
      "2932                       1      0  \n",
      "960                        3      0  \n",
      "1615                       2      0  \n",
      "646                        0      0  \n",
      "475                        3      0  \n",
      "...                      ...    ...  \n",
      "1122                       1      1  \n",
      "1739                       2      1  \n",
      "2267                       2      1  \n",
      "3157                       4      1  \n",
      "301                        1      1  \n",
      "\n",
      "[3333 rows x 20 columns]\n",
      "--------------------------------------------------\n",
      "------- Total eve calls and Churn ascending -------\n",
      "--------------------------------------------------\n",
      "\n",
      "     State  Account length  Area code International plan Voice mail plan  \\\n",
      "2932    UT              97        415                 No              No   \n",
      "960     AR               5        415                 No              No   \n",
      "1615    CT              74        408                 No              No   \n",
      "646     WV             153        408                 No             Yes   \n",
      "475     AR              74        510                 No              No   \n",
      "...    ...             ...        ...                ...             ...   \n",
      "1020    HI             115        415                 No             Yes   \n",
      "3157    AR             127        415                Yes              No   \n",
      "58      WI              68        415                 No              No   \n",
      "301     FL             127        415                 No              No   \n",
      "3219    NY             150        415                 No             Yes   \n",
      "\n",
      "      Number vmail messages  Total day minutes  Total day calls  \\\n",
      "2932                      0              209.2              134   \n",
      "960                       0              199.2              106   \n",
      "1615                      0              157.1               95   \n",
      "646                      28              235.6               74   \n",
      "475                       0              148.5              111   \n",
      "...                     ...                ...              ...   \n",
      "1020                     33              145.0               72   \n",
      "3157                      0              143.2               60   \n",
      "58                        0              148.8               70   \n",
      "301                       0              266.6              106   \n",
      "3219                     35              139.6               72   \n",
      "\n",
      "      Total day charge  Total eve minutes  Total eve calls  Total eve charge  \\\n",
      "2932             35.56                0.0                0              0.00   \n",
      "960              33.86              187.3               12             15.92   \n",
      "1615             26.71              213.1               36             18.11   \n",
      "646              40.05              227.9               37             19.37   \n",
      "475              25.25              146.5               42             12.45   \n",
      "...                ...                ...              ...               ...   \n",
      "1020             24.65              194.5              157             16.53   \n",
      "3157             24.34              179.5              159             15.26   \n",
      "58               25.30              246.5              164             20.95   \n",
      "301              45.32              264.8              168             22.51   \n",
      "3219             23.73              332.8              170             28.29   \n",
      "\n",
      "      Total night minutes  Total night calls  Total night charge  \\\n",
      "2932                175.4                 94                7.89   \n",
      "960                 214.0                 85                9.63   \n",
      "1615                280.4                 77               12.62   \n",
      "646                 170.3                103                7.66   \n",
      "475                 289.2                 83               13.01   \n",
      "...                   ...                ...                 ...   \n",
      "1020                242.3                138               10.90   \n",
      "3157                171.8                122                7.73   \n",
      "58                  129.8                103                5.84   \n",
      "301                 207.2                119                9.32   \n",
      "3219                213.8                105                9.62   \n",
      "\n",
      "      Total intl minutes  Total intl calls  Total intl charge  \\\n",
      "2932                11.8                 6               3.19   \n",
      "960                 13.3                 3               3.59   \n",
      "1615                 7.6                 3               2.05   \n",
      "646                 15.4                 9               4.16   \n",
      "475                  9.9                 6               2.67   \n",
      "...                  ...               ...                ...   \n",
      "1020                14.2                 3               3.83   \n",
      "3157                 6.2                 4               1.67   \n",
      "58                  12.1                 3               3.27   \n",
      "301                  5.9                 2               1.59   \n",
      "3219                 8.8                 2               2.38   \n",
      "\n",
      "      Customer service calls  Churn  \n",
      "2932                       1      0  \n",
      "960                        3      0  \n",
      "1615                       2      0  \n",
      "646                        0      0  \n",
      "475                        3      0  \n",
      "...                      ...    ...  \n",
      "1020                       2      0  \n",
      "3157                       4      1  \n",
      "58                         3      0  \n",
      "301                        1      1  \n",
      "3219                       2      0  \n",
      "\n",
      "[3333 rows x 20 columns]\n"
     ]
    }
   ],
   "execution_count": 6
  },
  {
   "cell_type": "markdown",
   "metadata": {
    "id": "fqbnbofUakOt"
   },
   "source": [
    "### Indexing and extracting information from the dataframe\n",
    "\n",
    "By using Pandas dataframes we are able to index and extract information from the dataset. You can index the information stored in dataframe either by names or by indices. In the first case you use the command loc, in the second iloc. \n",
    "\n",
    "<b> Hint: </b> Use logical indexing for the columns and the groupby method to solve the tasks.\n",
    "\n",
    "<b>Exercise 5:</b>\n",
    "* Display the mean churn rate of the clients.\n",
    "* Now we want to analyse statistical information only for the clients, which are or aren\"t loyal to their telecom-company (field \"Churn\" in dataframe). Extract the loyal and non-loyal clients from the table separately and display the means of their charateristics in a single dataframe.\n",
    "* How long do the non-loyal users talk during the day (on average)?\n",
    "* What is the maximum length of the international calls for the loyal users that do not use the international plan?"
   ]
  },
  {
   "cell_type": "code",
   "metadata": {
    "id": "CZuol6v6akOu",
    "ExecuteTime": {
     "end_time": "2025-04-11T13:02:01.441411Z",
     "start_time": "2025-04-11T13:02:01.401957Z"
    }
   },
   "source": [
    "### Write Your code here ###\n",
    "\n",
    "# To use mean we should first get rid of yes/no tables\n",
    "table[\"International plan\"] = table[\"International plan\"].map({\"No\": 0, \"Yes\": 1, 0: 0, 1: 1}).astype(\"int64\")\n",
    "table[\"Voice mail plan\"] = table[\"Voice mail plan\"].map({\"No\": 0, \"Yes\": 1, 0: 0, 1: 1}).astype(\"int64\")\n",
    "\n",
    "print(format_title_string(\"Mean churn rate of the clients\", 50))\n",
    "print(table[\"Churn\"].mean())\n",
    "\n",
    "print(format_title_string(\"Means of loyal and not loyal clients\", 50))\n",
    "print(table.drop(columns=\"State\").groupby([\"Churn\"]).mean())\n",
    "\n",
    "print(format_title_string(\"Average of non-loyal during day talk time\", 50))\n",
    "print(table.drop(columns=\"State\")[table[\"Churn\"] == 0][\"Total day minutes\"].mean())\n",
    "\n",
    "print(format_title_string(\"Max length of calls without international plan\", 50))\n",
    "print(table.drop(columns=\"State\")[table[\"International plan\"] == 0][\"Account length\"].max())"
   ],
   "outputs": [
    {
     "name": "stdout",
     "output_type": "stream",
     "text": [
      "--------------------------------------------------\n",
      "---------- Mean churn rate of the clients ----------\n",
      "--------------------------------------------------\n",
      "\n",
      "0.14491449144914492\n",
      "--------------------------------------------------\n",
      "------- Means of loyal and not loyal clients -------\n",
      "--------------------------------------------------\n",
      "\n",
      "       Account length   Area code  International plan  Voice mail plan  \\\n",
      "Churn                                                                    \n",
      "0          100.793684  437.074737            0.065263         0.295439   \n",
      "1          102.664596  437.817805            0.283644         0.165631   \n",
      "\n",
      "       Number vmail messages  Total day minutes  Total day calls  \\\n",
      "Churn                                                              \n",
      "0                   8.604561         175.175754       100.283158   \n",
      "1                   5.115942         206.914079       101.335404   \n",
      "\n",
      "       Total day charge  Total eve minutes  Total eve calls  Total eve charge  \\\n",
      "Churn                                                                           \n",
      "0             29.780421         199.043298       100.038596         16.918909   \n",
      "1             35.175921         212.410145       100.561077         18.054969   \n",
      "\n",
      "       Total night minutes  Total night calls  Total night charge  \\\n",
      "Churn                                                               \n",
      "0               200.133193         100.058246            9.006074   \n",
      "1               205.231677         100.399586            9.235528   \n",
      "\n",
      "       Total intl minutes  Total intl calls  Total intl charge  \\\n",
      "Churn                                                            \n",
      "0               10.158877          4.532982           2.743404   \n",
      "1               10.700000          4.163561           2.889545   \n",
      "\n",
      "       Customer service calls  \n",
      "Churn                          \n",
      "0                    1.449825  \n",
      "1                    2.229814  \n",
      "--------------------------------------------------\n",
      "---- Average of non-loyal during day talk time ----\n",
      "--------------------------------------------------\n",
      "\n",
      "175.1757543859649\n",
      "--------------------------------------------------\n",
      "-- Max length of calls without international plan --\n",
      "--------------------------------------------------\n",
      "\n",
      "243\n"
     ]
    }
   ],
   "execution_count": 7
  },
  {
   "cell_type": "markdown",
   "metadata": {
    "collapsed": true,
    "id": "5FiSJtOvakOu"
   },
   "source": [
    "### Distribution of the features\n",
    "\n",
    "<b>Exercise 6:</b>\n",
    "\n",
    "Plot the distribution of the features that have numerical values. \n",
    "\n",
    "<b> Hint: </b>use the method hist which can also be applied from the pandas dataframe. It should look like that:\n",
    "<img src=\"hist_feat.png\">\n",
    "\n",
    "What do you observe? From which probability distribution could each feature be generated?"
   ]
  },
  {
   "cell_type": "code",
   "metadata": {
    "id": "c2a0RIW9akOu",
    "ExecuteTime": {
     "end_time": "2025-04-11T13:16:48.210307Z",
     "start_time": "2025-04-11T13:16:47.584980Z"
    }
   },
   "source": [
    "### Write Your code here ###\n",
    "fig, axs = plt.subplots(4, 4, figsize=(12, 5))\n",
    "axs[0, 0].hist(table[\"Account length\"])\n",
    "axs[1, 0].hist(table[\"Area code\"])\n",
    "axs[2, 0].hist(table[\"Number vmail messages\"])\n",
    "axs[3, 0].hist(table[\"Total day minutes\"])\n",
    "axs[0, 1].hist(table[\"Total day calls\"])\n",
    "axs[1, 1].hist(table[\"Total day charge\"])\n",
    "axs[2, 1].hist(table[\"Total eve minutes\"])\n",
    "axs[3, 1].hist(table[\"Total eve calls\"])\n",
    "axs[0, 2].hist(table[\"Total eve charge\"])\n",
    "axs[1, 2].hist(table[\"Total night minutes\"])\n",
    "axs[2, 2].hist(table[\"Total night calls\"])\n",
    "axs[3, 2].hist(table[\"Total night charge\"])\n",
    "axs[0, 3].hist(table[\"Total intl minutes\"])\n",
    "axs[1, 3].hist(table[\"Total intl calls\"])\n",
    "axs[2, 3].hist(table[\"Customer service calls\"])\n",
    "\n",
    "for ax in axs.flat:\n",
    "    ax.set_xticks([])\n",
    "    ax.set_yticks([])\n",
    "    ax.set_xlabel(\"\")\n",
    "    ax.set_ylabel(\"\")\n",
    "    ax.spines[\"top\"].set_visible(False)\n",
    "    ax.spines[\"right\"].set_visible(False)\n",
    "    ax.spines[\"left\"].set_visible(False)\n",
    "    ax.spines[\"bottom\"].set_visible(False)\n",
    "\n",
    "plt.tight_layout()\n",
    "plt.show()"
   ],
   "outputs": [
    {
     "data": {
      "text/plain": [
       "<Figure size 1200x500 with 16 Axes>"
      ],
      "image/png": "[encoded data removed]"
     },
     "metadata": {},
     "output_type": "display_data"
    }
   ],
   "execution_count": 21
  },
  {
   "cell_type": "markdown",
   "metadata": {
    "id": "kCfJo3lrakOv"
   },
   "source": [
    "p### Pivot tables and graphics\n",
    "\n",
    "We want to see how the instances are distributed between two categories: \"International plan\" and \"Churn\". \n",
    "\n",
    "<b>Exercise 7:</b>\n",
    "* Build the cross table between the features using the method <i>crosstab</i>.\n",
    "* Visualize the distribution for the feature \"Churn\", depending on the value of the features \"International plan\", \"Voice mail plan\", and \"Customer service calls\".\n",
    "<b>Hint:</b> Use commands plt.sublot and sns.subplots.\n",
    "\n",
    "Your plot should look something like this:\n",
    "<img src=\"dist_crosstab.png\">\n",
    "\n",
    "What do you see? What conclusions can be drawn? What feature (intuitively) can be more important for Churn prediction?"
   ]
  },
  {
   "cell_type": "code",
   "metadata": {
    "id": "XwO7vIx0akOv",
    "ExecuteTime": {
     "end_time": "2025-04-11T13:28:46.694223Z",
     "start_time": "2025-04-11T13:28:45.921896Z"
    }
   },
   "source": [
    "### Write Your code here ###\n",
    "voice_mail_ct = pd.crosstab(table[\"Churn\"], table[\"Voice mail plan\"])\n",
    "intl_plan_ct = pd.crosstab(table[\"Churn\"], table[\"International plan\"])\n",
    "cust_serv_calls_ct = pd.crosstab(table[\"Churn\"], table[\"Customer service calls\"])\n",
    "\n",
    "fig, axes = plt.subplots(1, 3, figsize=(18, 6))\n",
    "\n",
    "voice_mail_ct.plot(kind=\"bar\", ax=axes[0])\n",
    "axes[0].set_title(\"Voice mail plan\")\n",
    "\n",
    "intl_plan_ct.plot(kind=\"bar\", ax=axes[1])\n",
    "axes[1].set_title(\"International plan\")\n",
    "\n",
    "cust_serv_calls_ct.plot(kind=\"bar\", ax=axes[2])\n",
    "axes[2].set_title(\"Customer service calls\")\n",
    "\n",
    "plt.tight_layout()\n",
    "plt.show()"
   ],
   "outputs": [
    {
     "data": {
      "text/plain": [
       "<Figure size 1800x600 with 3 Axes>"
      ],
      "image/png": "[encoded data removed]"
     },
     "metadata": {},
     "output_type": "display_data"
    }
   ],
   "execution_count": 43
  },
  {
   "cell_type": "markdown",
   "metadata": {
    "id": "OVzZA0z0akOv"
   },
   "source": [
    "<b>Exercise 8:</b>\n",
    "\n",
    "Add a new feature to the dataframe which will describe whether or not the user has done more than 3 service calls. Investigate how this feature describes the churn rate."
   ]
  },
  {
   "cell_type": "code",
   "metadata": {
    "id": "yf434v4bakOv",
    "ExecuteTime": {
     "end_time": "2025-04-11T13:41:12.444978Z",
     "start_time": "2025-04-11T13:41:12.435826Z"
    }
   },
   "source": [
    "### Write Your code here ###\n",
    "table[\"More than 3 service calls\"] = table[\"Customer service calls\"] > 3\n",
    "\n",
    "print(format_title_string(\"More than 3 service calls\", 50))\n",
    "print(table[[\"More than 3 service calls\", \"Churn\"]].groupby([\"More than 3 service calls\"]).mean())\n"
   ],
   "outputs": [
    {
     "name": "stdout",
     "output_type": "stream",
     "text": [
      "--------------------------------------------------\n",
      "------------ More than 3 service calls ------------\n",
      "--------------------------------------------------\n",
      "\n",
      "                              Churn\n",
      "More than 3 service calls          \n",
      "False                      0.112524\n",
      "True                       0.516854\n"
     ]
    }
   ],
   "execution_count": 67
  }
 ],
 "metadata": {
  "kernelspec": {
   "display_name": "Python 3",
   "language": "python",
   "name": "python3"
  },
  "language_info": {
   "codemirror_mode": {
    "name": "ipython",
    "version": 3
   },
   "file_extension": ".py",
   "mimetype": "text/x-python",
   "name": "python",
   "nbconvert_exporter": "python",
   "pygments_lexer": "ipython3",
   "version": "3.7.5"
  },
  "colab": {
   "provenance": []
  }
 },
 "nbformat": 4,
 "nbformat_minor": 0
}
