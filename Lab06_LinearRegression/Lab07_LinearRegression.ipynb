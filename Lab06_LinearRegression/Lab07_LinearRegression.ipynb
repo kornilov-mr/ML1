{
  "cells": [
    {
      "cell_type": "markdown",
      "metadata": {
        "id": "lY6Srt5R1li0"
      },
      "source": [
        "# Linear Regression\n",
        "\n",
        "In this tutorial we will implement a linear regression model. We will also implement a function that splits the available data into a training and a testing part.\n",
        "\n",
        "## Problem Setting\n",
        "\n",
        "We will use the Boston Housing Dataset. This dataset contains information collected by the U.S Census Service concerning housing in the city of Boston in the state of Massachusetts in 1978. Our goal is to predict the median value of the houses in a particular town in the city of Boston given its attributes. Check the file ’housing_features_description.txt’ for more information on the attributes."
      ]
    },
    {
      "cell_type": "code",
      "execution_count": null,
      "metadata": {
        "scrolled": true,
        "id": "kHxSLZ7w1li1"
      },
      "outputs": [],
      "source": [
        "import urllib\n",
        "import pandas as pd\n",
        "import numpy as np\n",
        "# for auto-reloading external modules\n",
        "# see http://stackoverflow.com/questions/1907993/autoreload-of-modules-in-ipython\n",
        "%load_ext autoreload\n",
        "%autoreload 2\n",
        "\n",
        "### NOTE: The boston dataset has an ethical problem. More on this can e.g. be found in the scikit documentation. ###\n",
        "### Summary: The dataset contains the proportion of black people, which was assumed that racial self-segregation had a positive impact on house prices. ###\n",
        "\n",
        "\n",
        "data_url = \"http://lib.stat.cmu.edu/datasets/boston\"\n",
        "raw_df = pd.read_csv(data_url, sep=\"\\s+\", skiprows=22, header=None)\n",
        "boston_data = np.hstack([raw_df.values[::2, :], raw_df.values[1::2, :2]])\n",
        "boston_target = raw_df.values[1::2, 2]\n",
        "\n",
        "df=pd.DataFrame(boston_data)\n",
        "df.columns=['crime_rate','res_land_zoned','industry','charles_river','nox','avg_num_rooms','prop_bf_1940','dst_emply_center','rd_highway_idx','tax_rate','stdnt_tchr_ratio','prop_blacks','low_status_pct']\n",
        "X=boston_data\n",
        "y=boston_target\n"
      ]
    },
    {
      "cell_type": "code",
      "execution_count": null,
      "metadata": {
        "id": "BkyIMHZN1li3"
      },
      "outputs": [],
      "source": [
        "df.head(10)"
      ]
    },
    {
      "cell_type": "markdown",
      "source": [
        "# Note 1:\n",
        "\n",
        "Think about the ethical aspects of this dataset and machine learning in general. \n",
        "\n",
        "Can you always trust your data source? Can we use every possible information for our models?"
      ],
      "metadata": {
        "id": "a2pPZJYnLNVj"
      }
    },
    {
      "cell_type": "markdown",
      "metadata": {
        "id": "VJG66FPb1li3"
      },
      "source": [
        "### Exercise 1\n",
        "\n",
        "Write the *split_train_test(X,y,split,seed)*, given an instance matrix $X \\in \\mathbb{R}^{N \\times D}$, labels $y \\in Y^N$, a split ratio in $[0, 1]$ and a random seed $\\in \\mathbb{Z}$. Split the dataset in $(split×100)\\%$ of the instances for training our model and the rest for testing, i.e. \n",
        "\n",
        "$$ \\left|X_{\\text{train}}\\right| = \\lceil \\text{split} \\cdot N \\rceil, \\qquad |X_{\\text{train}}| + |X_{\\text{test}}| = N. $$\n",
        "Make sure you use the given random number generator seed so we all get the same results. The function is supposed to return:\n",
        "\n",
        "- X_train, y_train: the training instances and labels;\n",
        "- X_test, y_test: the test instances and labels,\n",
        "\n",
        "in the same order as was mentioned.\n",
        "\n",
        "Hint: It may be helpful to use shuffling functionality (e.g. np.random.shuffle)."
      ]
    },
    {
      "cell_type": "code",
      "execution_count": null,
      "metadata": {
        "id": "eZ2by_fO1li4"
      },
      "outputs": [],
      "source": [
        "def split_train_test(X,y,split,seed):\n",
        "    ##################\n",
        "    #INSERT CODE HERE#\n",
        "    ##################\n",
        "    return None # X_train, y_train, X_test, y_test"
      ]
    },
    {
      "cell_type": "markdown",
      "metadata": {
        "id": "Pxm9S36_1li4"
      },
      "source": [
        "### Exercise 2\n",
        "\n",
        "Write the function *train_linear_reg(X_train,y_train,lmbd)*.\n",
        "Implement the ridge regression model (slide 24). The function should output the learned weight vector $\\theta \\in \\mathbb{R}^D$ or $\\mathbb{R}^{D+1}$ (depending on whether you are adding *bias*)."
      ]
    },
    {
      "cell_type": "code",
      "execution_count": null,
      "metadata": {
        "id": "3LDp7ssz1li5"
      },
      "outputs": [],
      "source": [
        "def train_linear_reg(X, y, lmbd):\n",
        "    ##################\n",
        "    #INSERT CODE HERE#\n",
        "    ##################\n",
        "    return None # theta"
      ]
    },
    {
      "cell_type": "markdown",
      "metadata": {
        "id": "VzAAV9et1li5"
      },
      "source": [
        "### Exercise 3\n",
        "\n",
        "Write the function *predict(X,theta)* which predicts housing values vector pred for a dataset X and a previously trained parameter vector $\\theta$."
      ]
    },
    {
      "cell_type": "code",
      "execution_count": null,
      "metadata": {
        "id": "1k7w4Iyq1li6"
      },
      "outputs": [],
      "source": [
        "def predict(X, theta):\n",
        "    ##################\n",
        "    #INSERT CODE HERE#\n",
        "    ##################\n",
        "    return None # y_pred"
      ]
    },
    {
      "cell_type": "markdown",
      "metadata": {
        "id": "H83oY9Zn1li6"
      },
      "source": [
        "### Exercise 4\n",
        "\n",
        "Write the function *mean_abs_loss(y_true,y_pred)* which computes the mean of the absolute differences between our prediction vector $y\\_pred$ and the real housing values $y\\_true$."
      ]
    },
    {
      "cell_type": "code",
      "execution_count": null,
      "metadata": {
        "id": "hiNjDcM-1li7"
      },
      "outputs": [],
      "source": [
        "def mean_abs_loss(y_true,y_pred):\n",
        "    ##################\n",
        "    #INSERT CODE HERE#\n",
        "    ##################\n",
        "    return 0"
      ]
    },
    {
      "cell_type": "markdown",
      "metadata": {
        "id": "G9CXkha41li7"
      },
      "source": [
        "### Exercise 5\n",
        "\n",
        "Evaluate your solutions by running the following code. \n",
        "\n",
        "Moreover, answer the following questions: What is the most important feature in your model? Are there features that are not so important? What happens if you remove them? Are there outliers with a high absolute loss?"
      ]
    },
    {
      "cell_type": "code",
      "execution_count": null,
      "metadata": {
        "id": "v-hRUKyC1li8"
      },
      "outputs": [],
      "source": [
        "seed = 3\n",
        "lmbd=1\n",
        "split=0.7\n",
        "X_train,y_train,X_test,y_test=split_train_test(X,y,split,seed)\n",
        "theta=train_linear_reg(X_train,y_train,lmbd)\n",
        "y_pred=predict(X_test,theta)\n",
        "mae=mean_abs_loss(y_test,y_pred)\n",
        "print ('The mean absolute loss is {loss:0.3f}'.format(loss=mae*1000))"
      ]
    }
  ],
  "metadata": {
    "kernelspec": {
      "display_name": "Python 3",
      "language": "python",
      "name": "python3"
    },
    "language_info": {
      "codemirror_mode": {
        "name": "ipython",
        "version": 3
      },
      "file_extension": ".py",
      "mimetype": "text/x-python",
      "name": "python",
      "nbconvert_exporter": "python",
      "pygments_lexer": "ipython3",
      "version": "3.7.10"
    },
    "colab": {
      "name": "Lab07_LinearRegression.ipynb",
      "provenance": []
    }
  },
  "nbformat": 4,
  "nbformat_minor": 0
}