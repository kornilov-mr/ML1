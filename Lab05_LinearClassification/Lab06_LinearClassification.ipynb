{
 "cells": [
  {
   "cell_type": "markdown",
   "metadata": {
    "id": "4i0ChBBhxF0K"
   },
   "source": [
    "# Linear Classification\n",
    "\n",
    "In this lab you will implement parts of a linear classification model using the regularized empirical risk minimization principle. By completing this lab and analysing the code, you gain deeper understanding of these type of models, and of gradient descent.\n",
    "\n",
    "\n",
    "## Problem Setting\n",
    "\n",
    "The dataset describes diagnosing of cardiac Single Proton Emission Computed Tomography (SPECT) images. Each of the patients is classified into two categories: normal (1) and abnormal (0). The training data contains 80 SPECT images from which 22 binary features have been extracted. The goal is to predict the label for an unseen test set of 187 tomography images."
   ]
  },
  {
   "cell_type": "code",
   "metadata": {
    "scrolled": true,
    "id": "qSGEB3UkxF0L",
    "ExecuteTime": {
     "end_time": "2025-05-23T17:41:20.329190Z",
     "start_time": "2025-05-23T17:41:19.364530Z"
    }
   },
   "source": [
    "import urllib.request\n",
    "import pandas as pd\n",
    "import numpy as np\n",
    "# for auto-reloading external modules\n",
    "# see http://stackoverflow.com/questions/1907993/autoreload-of-modules-in-ipython\n",
    "%load_ext autoreload\n",
    "%autoreload 2\n",
    "\n",
    "testfile = urllib.request.URLopener()\n",
    "testfile.retrieve(\"http://archive.ics.uci.edu/ml/machine-learning-databases/spect/SPECT.train\", \"SPECT.train\")\n",
    "testfile.retrieve(\"http://archive.ics.uci.edu/ml/machine-learning-databases/spect/SPECT.test\", \"SPECT.test\")\n",
    "\n",
    "df_train = pd.read_csv('SPECT.train', header=None)\n",
    "df_test = pd.read_csv('SPECT.test', header=None)\n",
    "\n",
    "train = df_train.values\n",
    "test = df_test.values\n",
    "\n",
    "y_train = train[:, 0]\n",
    "X_train = train[:, 1:]\n",
    "y_test = test[:, 0]\n",
    "X_test = test[:, 1:]"
   ],
   "outputs": [
    {
     "name": "stdout",
     "output_type": "stream",
     "text": [
      "The autoreload extension is already loaded. To reload it, use:\n",
      "  %reload_ext autoreload\n"
     ]
    }
   ],
   "execution_count": 4
  },
  {
   "cell_type": "markdown",
   "metadata": {
    "id": "DBPhAtmexF0N"
   },
   "source": [
    "### Exercise 1\n",
    "\n",
    "Analyze the function learn_reg_ERM(X,y,lambda) which for a given $n\\times m$ data matrix $\\textbf{X}$ and binary class label $\\textbf{y}$ learns and returns a linear model $\\textbf{w}$.\n",
    "The binary class label has to be transformed so that its range is $\\left \\{-1,1 \\right \\}$. \n",
    "The trade-off parameter between the empirical loss and the regularizer is given by $\\lambda > 0$. \n",
    "To adapt the learning rate the Barzilai-Borwein method is used.\n",
    "\n",
    "Try to understand each step of the learning algorithm and comment each line.\n"
   ]
  },
  {
   "cell_type": "code",
   "metadata": {
    "id": "1-HgTxIQxF0N",
    "ExecuteTime": {
     "end_time": "2025-05-23T19:58:24.956887Z",
     "start_time": "2025-05-23T19:58:24.832527Z"
    }
   },
   "source": [
    "def learn_reg_ERM(X, y, lbda):\n",
    "    max_iter = 1000  # hardcoded limit of iterations\n",
    "    e = 0.001  # Acceptable error\n",
    "    alpha = 1.  # Starting value for moving gradient\n",
    "\n",
    "    w = np.random.randn(X.shape[1])  # Random feta vector\n",
    "    for k in np.arange(max_iter):  # iterates before reaching hardcoded limit or reaching e\n",
    "        h = np.dot(X, w)  # Dot product of point position and feta vector (result of liniar classification)\n",
    "        l, lg = loss(h, y)  # calculation loss function from expected and real value\n",
    "        r, rg = reg(w, lbda)  # calculation regulation term and its gradient\n",
    "        g = np.dot(X.T, lg) + rg  # calculating total gradient\n",
    "        if (k > 0):\n",
    "            alpha = alpha * (np.dot(g_old.T, g_old)) / (np.dot((g_old - g).T, g_old))\n",
    "            # simple onestep approximation\n",
    "        w = w - alpha * g  # Calculation new feta vector\n",
    "        if (np.linalg.norm(alpha * g) < e):  # breaking if reaching acceptable error\n",
    "            break\n",
    "        g_old = g  # Saving total gradient for next loop\n",
    "        final_loss=np.mean(l)\n",
    "    return w,final_loss"
   ],
   "outputs": [],
   "execution_count": 148
  },
  {
   "cell_type": "markdown",
   "metadata": {
    "id": "l1CmQjDhxF0O"
   },
   "source": [
    "### Exercise 2\n",
    "\n",
    "Fill in the code for the function loss(h,y) which computes the hinge loss and its gradient. \n",
    "This function takes a given vector $\\textbf{y}$ with the true labels $\\in \\left \\{-1,1\\right \\}$ and a vector $\\textbf{h}$ with the function values of the linear model as inputs. The function returns a vector $\\textbf{l}$ with the hinge loss $\\max(0, 1 − y_{i} h_{i})$ and a vector $\\textbf{g}$ with the gradients of the hinge loss w.r.t $\\textbf{h}$. (Note: The partial derivative of the hinge loss with respect to $\\textbf{h}$  is $g_{i} = −y $ if $l_{i} > 0$, else $g_{i} = 0$)"
   ]
  },
  {
   "cell_type": "code",
   "metadata": {
    "id": "Vct3IsAYxF0O",
    "ExecuteTime": {
     "end_time": "2025-05-23T19:23:53.277070Z",
     "start_time": "2025-05-23T19:23:53.166088Z"
    }
   },
   "source": [
    "def loss(h, y):\n",
    "    l = np.maximum(0, 1 - y * h)\n",
    "    g = np.where(l > 0, -y, 0)\n",
    "    return l, g"
   ],
   "outputs": [],
   "execution_count": 7
  },
  {
   "cell_type": "markdown",
   "metadata": {
    "id": "OmdwcNAaxF0P"
   },
   "source": [
    "### Exercise 3\n",
    "\n",
    "Fill in the code for the function reg(w,lambda) which computes the $\\mathcal{L}_2$-regularizer and the gradient of the regularizer function at point $\\textbf{w}$. \n",
    "\n",
    "\n",
    "$$r = \\frac{\\lambda}{2} \\textbf{w}^{T}\\textbf{w}$$\n",
    "\n",
    "$$g = \\lambda \\textbf{w}$$"
   ]
  },
  {
   "cell_type": "code",
   "metadata": {
    "id": "CEsrqBTfxF0P",
    "ExecuteTime": {
     "end_time": "2025-05-23T19:23:54.565398Z",
     "start_time": "2025-05-23T19:23:54.454308Z"
    }
   },
   "source": [
    "def reg(w, lbda):\n",
    "    ##################\n",
    "    #INSERT CODE HERE#\n",
    "    ##################\n",
    "    return (lbda / 2) * np.dot(w, w), lbda * w"
   ],
   "outputs": [],
   "execution_count": 8
  },
  {
   "cell_type": "markdown",
   "metadata": {
    "id": "HXlyhFPmxF0Q"
   },
   "source": [
    "### Exercise 4\n",
    "\n",
    "Fill in the code for the function predict(w,x) which predicts the class label $y$ for a data point $\\textbf{x}$ or a matrix $X$ of data points (row-wise) for a previously trained linear model $\\textbf{w}$. If there is only a data point given, the function is supposed to return a scalar value. If a matrix is given a vector of predictions is supposed to be returned."
   ]
  },
  {
   "cell_type": "code",
   "metadata": {
    "id": "bnKXor1NxF0Q",
    "ExecuteTime": {
     "end_time": "2025-05-23T19:37:50.787838Z",
     "start_time": "2025-05-23T19:37:50.673219Z"
    }
   },
   "source": [
    "def predict(w, X):\n",
    "    h = np.dot(X, w)\n",
    "\n",
    "    preds = np.sign(h)\n",
    "\n",
    "    if X.ndim == 1:\n",
    "        return int(preds)\n",
    "    else:\n",
    "        return preds"
   ],
   "outputs": [],
   "execution_count": 48
  },
  {
   "cell_type": "markdown",
   "metadata": {
    "id": "ltgVMtXIxF0R"
   },
   "source": [
    "### Exercise 5\n",
    "\n",
    "#### 5.1 \n",
    "Train a linear model on the training data and classify all 187 test instances afterwards using the function predict. \n",
    "Please note that the given class labels are in the range $\\left \\{0,1 \\right \\}$, however the learning algorithm expects a label in the range of $\\left \\{-1,1 \\right \\}$. Then, compute the accuracy of your trained linear model on both the training and the test data."
   ]
  },
  {
   "metadata": {
    "ExecuteTime": {
     "end_time": "2025-05-23T19:39:24.126598Z",
     "start_time": "2025-05-23T19:39:24.028972Z"
    }
   },
   "cell_type": "code",
   "source": [
    "def accuracy(expected, real):\n",
    "    assert expected.shape == real.shape\n",
    "    return np.sum(expected == real) / expected.shape[0]"
   ],
   "outputs": [],
   "execution_count": 51
  },
  {
   "metadata": {},
   "cell_type": "code",
   "outputs": [],
   "execution_count": 14,
   "source": [
    "df_train = pd.read_csv('SPECT.train', header=None)\n",
    "df_test = pd.read_csv('SPECT.test', header=None)\n",
    "\n",
    "df_train = df_train.replace(0,-1)\n",
    "df_test = df_test.replace(0,-1)\n",
    "\n",
    "train = df_train.values\n",
    "test = df_test.values\n",
    "\n",
    "y_train = train[:, 0]\n",
    "X_train = train[:, 1:]\n",
    "y_test = test[:, 0]\n",
    "X_test = test[:, 1:]"
   ]
  },
  {
   "metadata": {
    "ExecuteTime": {
     "end_time": "2025-05-23T19:56:46.497831100Z",
     "start_time": "2025-05-23T19:44:02.458887Z"
    }
   },
   "cell_type": "code",
   "source": [
    "W,final_loss = learn_reg_ERM(X_train,y_train,3)\n",
    "print(W)\n",
    "print(predict(W,X_test))\n",
    "print(accuracy(y_test,predict(W,X_test)))"
   ],
   "outputs": [
    {
     "name": "stdout",
     "output_type": "stream",
     "text": [
      "loss: 2.917336199883414\n",
      "loss: 128.1867204072083\n",
      "loss: 24.378038074951466\n",
      "loss: 51.8625\n",
      "loss: 5.12549606898867\n",
      "loss: 5.644723221240089\n",
      "loss: 2.456463136724981\n",
      "loss: 1.0404037789227658\n",
      "loss: 2.9725709026774654\n",
      "loss: 0.8249573403198515\n",
      "loss: 0.5752453592111133\n",
      "loss: 0.5351151196677238\n",
      "loss: 0.5080552082611596\n",
      "loss: 1.4740497640586079\n",
      "loss: 0.47693012988997674\n",
      "loss: 0.46128897627776927\n",
      "loss: 0.4483331489827037\n",
      "loss: 0.5592646298571267\n",
      "loss: 0.43873765791446606\n",
      "loss: 0.437040947670231\n",
      "loss: 0.43681642767966905\n",
      "loss: 0.43539929348055023\n",
      "loss: 0.4371536901555745\n",
      "loss: 0.43684378840247556\n",
      "loss: 0.4382001074764033\n",
      "loss: 0.4347767204939396\n",
      "loss: 0.43447505065070563\n",
      "loss: 0.4363200279639477\n",
      "loss: 0.44920540769358547\n",
      "loss: 0.45546682587293963\n",
      "loss: 0.43810005703750815\n",
      "loss: 0.43490804080025836\n",
      "loss: 0.4347037255559171\n",
      "loss: 0.4348747285901167\n",
      "loss: 0.43439325013638486\n",
      "loss: 0.4358321016218002\n",
      "loss: 0.43462316364732567\n",
      "loss: 0.43507731452892495\n",
      "loss: 0.434248156495315\n",
      "loss: 0.4341085514712734\n",
      "loss: 0.4341955573051746\n",
      "loss: 0.4341923268865669\n",
      "loss: 0.43411702664033597\n",
      "loss: 0.4340248557474601\n",
      "loss: 0.434006602088332\n",
      "loss: 0.43400562498129264\n",
      "loss: 0.43397120791224647\n",
      "loss: 0.4339838455145644\n",
      "loss: 0.4339523500769026\n",
      "loss: 0.43400286431811486\n",
      "loss: 0.43392231808281945\n",
      "loss: 0.43394232868818916\n",
      "[ 0.1584593  -0.025053   -0.62997532  0.23599091 -0.22351788  0.04316111\n",
      "  0.42404467  0.54829608 -0.06511506  0.12565527  0.54289445 -0.16591183\n",
      "  0.86369663 -0.03772024 -0.55740396  0.35760954  0.04031473 -0.64857184\n",
      " -0.00314654  0.17883706 -0.07046273  0.25986876]\n",
      "[-1.  1. -1.  1.  1.  1.  1. -1.  1.  1. -1. -1.  1. -1.  1. -1.  1.  1.\n",
      " -1.  1. -1.  1. -1.  1. -1.  1.  1.  1. -1. -1.  1.  1.  1.  1. -1.  1.\n",
      " -1. -1.  1.  1.  1.  1.  1. -1. -1.  1.  1. -1. -1. -1.  1.  1.  1.  1.\n",
      "  1.  1.  1. -1.  1.  1.  1. -1.  1.  1. -1. -1.  1. -1. -1. -1.  1.  1.\n",
      " -1. -1.  1. -1.  1.  1.  1.  1.  1.  1.  1.  1. -1.  1.  1.  1.  1.  1.\n",
      "  1.  1.  1.  1. -1.  1. -1.  1.  1.  1.  1. -1. -1.  1. -1.  1. -1. -1.\n",
      "  1. -1. -1. -1. -1. -1. -1. -1. -1.  1. -1. -1. -1. -1. -1.  1.  1. -1.\n",
      " -1. -1. -1.  1.  1.  1. -1.  1. -1. -1.  1. -1.  1. -1.  1.  1.  1.  1.\n",
      " -1. -1. -1.  1.  1.  1.  1. -1.  1.  1.  1. -1.  1. -1.  1.  1.  1.  1.\n",
      "  1. -1.  1. -1.  1. -1. -1. -1.  1. -1. -1.  1. -1. -1. -1. -1. -1. -1.\n",
      " -1. -1. -1.  1. -1. -1. -1.]\n",
      "0.5989304812834224\n"
     ]
    }
   ],
   "execution_count": 118
  },
  {
   "metadata": {
    "ExecuteTime": {
     "end_time": "2025-05-23T19:58:48.713532Z",
     "start_time": "2025-05-23T19:58:46.898109Z"
    }
   },
   "cell_type": "code",
   "source": [
    "import matplotlib.pyplot as plt\n",
    "\n",
    "Sample_size = 1\n",
    "\n",
    "accuracy_data = []\n",
    "training_loss_data = []\n",
    "for i in range(3,100):\n",
    "    lmbda = i/20\n",
    "\n",
    "    temp_accuracy = []\n",
    "    temp_loss = []\n",
    "    for _ in range(Sample_size):\n",
    "        W,final_loss = learn_reg_ERM(X_train,y_train,lmbda)\n",
    "        temp_loss.append(final_loss)\n",
    "        temp_accuracy.append(accuracy(y_test,predict(W,X_test)))\n",
    "\n",
    "    training_loss_data.append(np.min(np.array(temp_loss)))\n",
    "    accuracy_data.append(np.max(np.array(temp_accuracy)))\n",
    "\n",
    "\n",
    "fig, axs = plt.subplots(1, 2, figsize=(12, 5))\n",
    "axs[0].plot(range(1, len(training_loss_data) + 1), training_loss_data, label=\"train_loss\")\n",
    "axs[1].plot(range(1, len(training_loss_data) + 1), accuracy_data, label=\"accuracy\")\n",
    "axs[0].legend()\n",
    "axs[1].legend()\n",
    "plt.show()"
   ],
   "outputs": [
    {
     "data": {
      "text/plain": [
       "<Figure size 1200x500 with 2 Axes>"
      ],
      "image/png": "[encoded data removed]"
     },
     "metadata": {},
     "output_type": "display_data"
    }
   ],
   "execution_count": 150
  },
  {
   "metadata": {
    "id": "IFdpQNg3xF0S"
   },
   "cell_type": "markdown",
   "source": [
    "#### 5.2\n",
    "Compare the accuracy of the linear model with the accuracy of a random forest and a decision tree on the training and test data set."
   ]
  },
  {
   "metadata": {},
   "cell_type": "code",
   "outputs": [],
   "execution_count": null,
   "source": [
    "##################\n",
    "#INSERT CODE HERE#\n",
    "##################"
   ]
  },
  {
   "metadata": {
    "ExecuteTime": {
     "end_time": "2025-05-23T20:02:55.481493Z",
     "start_time": "2025-05-23T20:02:55.146316Z"
    }
   },
   "cell_type": "code",
   "source": [
    "from sklearn.tree import DecisionTreeClassifier\n",
    "from sklearn.ensemble import RandomForestClassifier\n",
    "\n",
    "clf_tree = DecisionTreeClassifier(criterion='entropy', max_depth=1)\n",
    "clf_tree.fit(X_train, y_train)\n",
    "print(clf_tree.score(X_test, y_test))\n",
    "\n",
    "W,final_loss = learn_reg_ERM(X_train,y_train,3)\n",
    "print(accuracy(y_test,predict(W,X_test)))\n",
    "\n",
    "clf = RandomForestClassifier()\n",
    "clf.fit(X_train, y_train)\n",
    "print(clf.score(X_test, y_test))"
   ],
   "outputs": [
    {
     "name": "stdout",
     "output_type": "stream",
     "text": [
      "0.6149732620320856\n",
      "0.5882352941176471\n",
      "0.7754010695187166\n"
     ]
    }
   ],
   "execution_count": 160
  }
 ],
 "metadata": {
  "kernelspec": {
   "display_name": "Python 3",
   "language": "python",
   "name": "python3"
  },
  "language_info": {
   "codemirror_mode": {
    "name": "ipython",
    "version": 3
   },
   "file_extension": ".py",
   "mimetype": "text/x-python",
   "name": "python",
   "nbconvert_exporter": "python",
   "pygments_lexer": "ipython3",
   "version": "3.7.10"
  },
  "colab": {
   "name": "Lab06_LinearClassification.ipynb",
   "provenance": []
  }
 },
 "nbformat": 4,
 "nbformat_minor": 0
}
