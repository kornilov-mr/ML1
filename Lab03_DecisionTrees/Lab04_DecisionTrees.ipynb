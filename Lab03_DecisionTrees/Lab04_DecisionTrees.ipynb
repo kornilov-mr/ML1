{
 "cells": [
  {
   "cell_type": "markdown",
   "metadata": {
    "id": "ExZu7Yy0r8b4"
   },
   "source": [
    "# Decision Trees\n",
    "\n",
    "In this lab you will learn the most important aspects of the decision tree learning method. \n",
    "Completing this lab and analyzing the code will give you a deeper understanding of these type of models.\n",
    "In our experiments we will mostly use the package sklearn from which we import DecisionTreeClassifier.\n",
    "\n",
    "## Problem Setting\n",
    "\n",
    "First of all, we calculate by hand the impurity measure of splitting some data by some criteria $q$ which in our case is given by a threshold t. Remember, that information gain is calculated as follows: \n",
    "$$IG(q) = S_{0} - \\sum_{i=1}^{k}\\frac{N_{i}(q)}{N}S_{i}(q)$$\n",
    "where $k$ is the number of groups after partition; $N$ is the total number of examples; $N_{i}(q)$ is the number of examples in the group $i$ and $S$ is the (Shannon) entropy function defined as:\n",
    "$$S = - \\sum_{i}^{}\\hat{p}_{i}\\log(\\hat{p}_{i}),$$\n",
    "where $\\hat{p}_{i}$ is the empirical frequency that the randomly chosen object has label $i$."
   ]
  },
  {
   "cell_type": "code",
   "metadata": {
    "id": "VGqKx3iFr8b6",
    "ExecuteTime": {
     "end_time": "2025-04-28T12:20:18.532570Z",
     "start_time": "2025-04-28T12:20:18.503514Z"
    }
   },
   "source": [
    "import math\n",
    "\n",
    "import numpy as np\n",
    "import pandas as pd\n",
    "import seaborn as sns\n",
    "from matplotlib import pyplot as plt\n",
    "\n",
    "%matplotlib inline"
   ],
   "outputs": [],
   "execution_count": 5
  },
  {
   "cell_type": "markdown",
   "metadata": {
    "id": "FFtm8wZgr8b7"
   },
   "source": [
    "## Entropy\n",
    "<b>Exercise 1:</b>\n",
    "\n",
    "Write a function that calculates the entropy defined as: $$S = - \\sum_{i}^{}\\hat{p}_{i}\\log(\\hat{p}_{i}).$$ <b>Hint:</b> The function input is a vector of labels and the function should return the entropy. (Use the logarithm with base 2. In principle, any base for the logarithm can be used. Changing the base will just change the unit of information. Computer scientists like to use the base 2. In this case information is measured in bits.)"
   ]
  },
  {
   "cell_type": "code",
   "metadata": {
    "id": "EqkvzsZRr8b7",
    "ExecuteTime": {
     "end_time": "2025-04-28T12:20:18.592946Z",
     "start_time": "2025-04-28T12:20:18.587376Z"
    }
   },
   "source": [
    "import math\n",
    "\n",
    "\n",
    "def entropy(y):\n",
    "    if len(y) == 0:\n",
    "        return 0\n",
    "    ones_count = np.sum(y)\n",
    "    ones_probability = ones_count / len(y)\n",
    "    zero_probability = 1 - ones_probability\n",
    "    if ones_probability == 0 or zero_probability == 0:\n",
    "        return 0\n",
    "\n",
    "    s = 0\n",
    "    s -= zero_probability * math.log2(zero_probability)\n",
    "    s -= ones_probability * math.log2(ones_probability)\n",
    "    return s"
   ],
   "outputs": [],
   "execution_count": 6
  },
  {
   "metadata": {},
   "cell_type": "markdown",
   "source": ""
  },
  {
   "cell_type": "markdown",
   "metadata": {
    "id": "vrgO1GqQr8b9"
   },
   "source": [
    "Check if your solution is correct:"
   ]
  },
  {
   "cell_type": "code",
   "metadata": {
    "id": "mWeK3pkrr8b9",
    "ExecuteTime": {
     "end_time": "2025-04-28T12:20:18.624565Z",
     "start_time": "2025-04-28T12:20:18.616580Z"
    }
   },
   "source": [
    "try:\n",
    "    assert entropy(np.array([1, 1, 0, 0])) == 1.\n",
    "    assert entropy(np.array([0, 0])) == 0.\n",
    "    assert str(entropy(np.array([1, 1, 0, 0, 1, 1])))[:8] == \"0.918295\"\n",
    "    print(\"Testing successful.\")\n",
    "except:\n",
    "    print(\"Tests failed.\")\n",
    "\n"
   ],
   "outputs": [
    {
     "name": "stdout",
     "output_type": "stream",
     "text": [
      "Testing successful.\n"
     ]
    }
   ],
   "execution_count": 7
  },
  {
   "cell_type": "markdown",
   "metadata": {
    "id": "qIY1ypMkr8b-"
   },
   "source": [
    "## Information Gain\n",
    "\n",
    "<b> Exercise 2:</b>\n",
    "Write a function that calculates the information gain obtained by setting the threshold $t\\in \\mathbb{R}$ for data points $x \\in \\mathbb{R}^{d}$ with label $y\\in \\mathbb{N}^{d}$. <b>Hint:</b> The function input is a vector x of attribut values, a vector y of labels and a threshold. The function should return the information gain for that specific split.\n",
    "\n",
    "<b>Example</b>: A split at threshold $t=2$ for data points $x = [2,4,3,1,5]$ and label $y=[1,0,0,0,0]$ would result in the lists \n",
    "* $x_{right} = [4,3,5]$, $y_{right} = [0,0,0]$ (for $x > t$) and\n",
    "* $x_{left} = [2,1]$, $y_{left} = [1,0]$ (for $x <= t$).\n",
    "* Computation of information gain: $\\textbf{entropy}([1,0,0,0,0]) - ((0.4 * \\textbf{entropy}([1,0]))+(0.6 * \\textbf{entropy}([0,0,0])))$"
   ]
  },
  {
   "cell_type": "code",
   "metadata": {
    "id": "Za_MVzVrr8b-",
    "ExecuteTime": {
     "end_time": "2025-04-28T12:20:18.671792Z",
     "start_time": "2025-04-28T12:20:18.663603Z"
    }
   },
   "source": [
    "def info_gain(x, y, t):\n",
    "    group_one = y[x > t]\n",
    "    group_second = y[x <= t]\n",
    "    group_one_probability = group_one.shape[0] / len(y)\n",
    "    group_second_probability = 1 - group_one_probability\n",
    "\n",
    "    return entropy(y) - (\n",
    "            (group_one_probability * entropy(group_one)) + (group_second_probability * entropy(group_second)))\n",
    "    ### WRITE YOUR CODE HERE ###\n",
    "    pass"
   ],
   "outputs": [],
   "execution_count": 8
  },
  {
   "cell_type": "markdown",
   "metadata": {
    "id": "lJ-CFkkyr8b-"
   },
   "source": [
    "Check if your solution is correct:"
   ]
  },
  {
   "cell_type": "code",
   "metadata": {
    "id": "V3rvnvO2r8b_",
    "ExecuteTime": {
     "end_time": "2025-04-28T12:20:18.717261Z",
     "start_time": "2025-04-28T12:20:18.705262Z"
    }
   },
   "source": [
    "\n",
    "try:\n",
    "    assert str(info_gain(np.array([5, 2, 3, 44, 5, 6, 7, 8, 9, 10]), np.array([1, 1, 1, 1, 1, 0, 0, 0, 0, 0]), 5))[\n",
    "           :8] == \"0.609986\"\n",
    "    assert str(info_gain(np.array([1, 2, 3, 4, 5, 6, 7, 8, 9, 10]), np.array([1, 1, 1, 1, 1, 0, 0, 0, 0, 0]), 1))[\n",
    "           :8] == \"0.108031\"\n",
    "    assert str(info_gain(np.array([1, 2, 3, 4, 5, 6, 7, 8, 9, 10]), np.array([1, 1, 1, 1, 1, 0, 0, 0, 0, 0]), 3))[\n",
    "           :8] == \"0.395815\"\n",
    "    assert str(info_gain(np.array([1, 2, 3, 4, 5, 6, 7, 8, 9, 10]), np.array([1, 1, 1, 1, 1, 0, 0, 0, 0, 0]), 5))[\n",
    "           :8] == \"1.0\"\n",
    "    assert str(info_gain(np.array([1, 2, 3, 4, 5, 6, 7, 8, 9, 10]), np.array([1, 1, 1, 1, 1, 0, 0, 0, 0, 0]), 6))[\n",
    "           :8] == \"0.609986\"\n",
    "    print(\"Testing successful.\")\n",
    "except:\n",
    "    print(\"Tests failed.\")\n",
    "print(str(info_gain(np.array([5, 2, 3, 44, 5, 6, 7, 8, 9, 10]), np.array([1, 1, 1, 1, 1, 0, 0, 0, 0, 0]), 5))[\n",
    "      :9])"
   ],
   "outputs": [
    {
     "name": "stdout",
     "output_type": "stream",
     "text": [
      "Testing successful.\n",
      "0.6099865\n"
     ]
    }
   ],
   "execution_count": 9
  },
  {
   "cell_type": "markdown",
   "metadata": {
    "id": "KWRhzGvtr8b_"
   },
   "source": [
    "<b> Exercise 3:</b>\n",
    "\n",
    "* Create a 2-dimensional data set with the help of the function make_blobs from package sklearn.datasets (the two returned variables should be named 'X' and 'label'). The data set should contain 500 data points with 2 clusters (2 classes). The cluster centers should be located at (0,0) and (3,3).\n",
    "* Visualize the data set. It should look like this:\n",
    "<img src=\"./figures/dataset.png\" width=\"600\"/>"
   ]
  },
  {
   "metadata": {
    "ExecuteTime": {
     "end_time": "2025-04-28T12:20:18.777311Z",
     "start_time": "2025-04-28T12:20:18.771764Z"
    }
   },
   "cell_type": "code",
   "source": [
    "def plot_scatter_from_x_and_label(x, labels):\n",
    "    first_group = X[labels == 1]\n",
    "    second_group = X[labels == 0]\n",
    "    plt.scatter(first_group[:, 0], first_group[:, 1])\n",
    "    plt.scatter(second_group[:, 0], second_group[:, 1])\n",
    "    plt.show()\n"
   ],
   "outputs": [],
   "execution_count": 10
  },
  {
   "metadata": {
    "id": "mqmWRQ9Er8b_",
    "ExecuteTime": {
     "end_time": "2025-04-28T12:20:19.519576Z",
     "start_time": "2025-04-28T12:20:18.798325Z"
    }
   },
   "cell_type": "code",
   "source": [
    "from sklearn.datasets import make_blobs\n",
    "\n",
    "X, label = make_blobs(n_samples=500, n_features=2, centers=((0, 0), (3, 3)))\n",
    "plot_scatter_from_x_and_label(X, label)"
   ],
   "outputs": [
    {
     "data": {
      "text/plain": [
       "<Figure size 640x480 with 1 Axes>"
      ],
      "image/png": "[encoded data removed]"
     },
     "metadata": {},
     "output_type": "display_data"
    }
   ],
   "execution_count": 11
  },
  {
   "cell_type": "markdown",
   "metadata": {
    "id": "GREPkjrcr8cA"
   },
   "source": [
    "<b>Exercise 4:</b>\n",
    "\n",
    "Write a function 'find_best_split(x,y)' that gets two input vectors $x \\in \\mathbb{R}^d$ and $y \\in \\{0,1\\}^d$. This function should return the threshold $t \\in x$ with the best split. <b>Hint:</b> Use the function 'info_gain' from exercise 2."
   ]
  },
  {
   "cell_type": "code",
   "metadata": {
    "id": "eDUSSbnAr8cA",
    "ExecuteTime": {
     "end_time": "2025-04-28T12:20:54.561054Z",
     "start_time": "2025-04-28T12:20:54.553964Z"
    }
   },
   "source": [
    "def find_best_split(x, y):\n",
    "    max_ratio = -1\n",
    "    best_split = None\n",
    "    for value in x:\n",
    "        curr_ratio = info_gain(x, y, value)\n",
    "        if curr_ratio > max_ratio:\n",
    "            max_ratio = curr_ratio\n",
    "            best_split = value\n",
    "    assert best_split is not None\n",
    "    return best_split"
   ],
   "outputs": [],
   "execution_count": 23
  },
  {
   "cell_type": "markdown",
   "metadata": {
    "id": "brkY-2b1r8cA"
   },
   "source": [
    "Check if your solution is correct:"
   ]
  },
  {
   "cell_type": "code",
   "metadata": {
    "id": "XtEefdMdr8cB",
    "ExecuteTime": {
     "end_time": "2025-04-28T12:20:56.025482Z",
     "start_time": "2025-04-28T12:20:56.016357Z"
    }
   },
   "source": [
    "try:\n",
    "    assert find_best_split(np.array([1, 2, 3, 4, 5, 6, 7, 8, 9, 10]), np.array([1, 1, 1, 1, 1, 0, 0, 0, 0, 0])) == 5\n",
    "    assert find_best_split(np.array([1, 2, 2, 4, 5, 6, 7, 8, 9, 10]), np.array([1, 1, 0, 0, 1, 0, 0, 1, 0, 0])) == 8\n",
    "    print(\"Testing successful.\")\n",
    "except:\n",
    "    print(\"Tests failed.\")"
   ],
   "outputs": [
    {
     "name": "stdout",
     "output_type": "stream",
     "text": [
      "Testing successful.\n"
     ]
    }
   ],
   "execution_count": 24
  },
  {
   "cell_type": "markdown",
   "metadata": {
    "id": "0TAKQeQ7r8cC"
   },
   "source": [
    "<b>Exercise 5:</b>\n",
    "\n",
    "* Find the best splitting for the two dimensions of the data set created in exercise 3. Plot the boundaries in a figure. Your figure should look like this:\n",
    "\n",
    "<img src=\"./figures/split.png\" width=\"600\"/>\n",
    "\n",
    "* Which split would you prefer, and why?"
   ]
  },
  {
   "cell_type": "code",
   "metadata": {
    "id": "0N0OR2lHr8cD",
    "ExecuteTime": {
     "end_time": "2025-04-28T12:36:52.574603Z",
     "start_time": "2025-04-28T12:36:52.243258Z"
    }
   },
   "source": [
    "x_best = find_best_split(X[:, 0], label)\n",
    "y_best = find_best_split(X[:, 1], label)\n",
    "### WRITE YOUR CODE HERE ###\n",
    "print(x_best)\n",
    "print(y_best)\n",
    "\n",
    "import matplotlib.lines as mlines\n",
    "import matplotlib.transforms as mtransforms\n",
    "\n",
    "fig, ax = plt.subplots(1)\n",
    "\n",
    "first_group = X[label == 1]\n",
    "second_group = X[label == 0]\n",
    "ax.scatter(first_group[:, 0], first_group[:, 1])\n",
    "ax.scatter(second_group[:, 0], second_group[:, 1])\n",
    "print(np.min(X[:, 0]))\n",
    "print(np.max(X[:, 0]))\n",
    "ax.plot([x_best, x_best], [np.min(X[:, 1]) - 1, np.max(X[:, 1]) + 1], color='red', label='best split on x')\n",
    "ax.plot([np.min(X[:, 0]) - 1, np.max(X[:, 0]) + 1], [y_best, y_best], color='blue', label='best split on y')\n",
    "ax.legend(loc='best')\n",
    "plt.show()"
   ],
   "outputs": [
    {
     "name": "stdout",
     "output_type": "stream",
     "text": [
      "1.3428569207093601\n",
      "1.3429745660535959\n",
      "-2.8185826103352545\n",
      "5.2557530621144535\n"
     ]
    },
    {
     "data": {
      "text/plain": [
       "<Figure size 640x480 with 1 Axes>"
      ],
      "image/png": "[encoded data removed]"
     },
     "metadata": {},
     "output_type": "display_data"
    }
   ],
   "execution_count": 72
  },
  {
   "cell_type": "markdown",
   "metadata": {
    "id": "m4JszCTUr8cD"
   },
   "source": [
    "## Train a Decision Tree\n",
    "Now we train a decision tree using the sklearn package:"
   ]
  },
  {
   "cell_type": "code",
   "metadata": {
    "id": "0EDFCibKr8cD",
    "ExecuteTime": {
     "end_time": "2025-04-28T12:36:58.061859Z",
     "start_time": "2025-04-28T12:36:58.050239Z"
    }
   },
   "source": [
    "from sklearn.tree import DecisionTreeClassifier\n",
    "\n",
    "clf_tree = DecisionTreeClassifier(criterion='entropy', max_depth=1)\n",
    "clf_tree.fit(X, label)"
   ],
   "outputs": [
    {
     "data": {
      "text/plain": [
       "DecisionTreeClassifier(criterion='entropy', max_depth=1)"
      ],
      "text/html": [
       "<style>#sk-container-id-2 {\n",
       "  /* Definition of color scheme common for light and dark mode */\n",
       "  --sklearn-color-text: #000;\n",
       "  --sklearn-color-text-muted: #666;\n",
       "  --sklearn-color-line: gray;\n",
       "  /* Definition of color scheme for unfitted estimators */\n",
       "  --sklearn-color-unfitted-level-0: #fff5e6;\n",
       "  --sklearn-color-unfitted-level-1: #f6e4d2;\n",
       "  --sklearn-color-unfitted-level-2: #ffe0b3;\n",
       "  --sklearn-color-unfitted-level-3: chocolate;\n",
       "  /* Definition of color scheme for fitted estimators */\n",
       "  --sklearn-color-fitted-level-0: #f0f8ff;\n",
       "  --sklearn-color-fitted-level-1: #d4ebff;\n",
       "  --sklearn-color-fitted-level-2: #b3dbfd;\n",
       "  --sklearn-color-fitted-level-3: cornflowerblue;\n",
       "\n",
       "  /* Specific color for light theme */\n",
       "  --sklearn-color-text-on-default-background: var(--sg-text-color, var(--theme-code-foreground, var(--jp-content-font-color1, black)));\n",
       "  --sklearn-color-background: var(--sg-background-color, var(--theme-background, var(--jp-layout-color0, white)));\n",
       "  --sklearn-color-border-box: var(--sg-text-color, var(--theme-code-foreground, var(--jp-content-font-color1, black)));\n",
       "  --sklearn-color-icon: #696969;\n",
       "\n",
       "  @media (prefers-color-scheme: dark) {\n",
       "    /* Redefinition of color scheme for dark theme */\n",
       "    --sklearn-color-text-on-default-background: var(--sg-text-color, var(--theme-code-foreground, var(--jp-content-font-color1, white)));\n",
       "    --sklearn-color-background: var(--sg-background-color, var(--theme-background, var(--jp-layout-color0, #111)));\n",
       "    --sklearn-color-border-box: var(--sg-text-color, var(--theme-code-foreground, var(--jp-content-font-color1, white)));\n",
       "    --sklearn-color-icon: #878787;\n",
       "  }\n",
       "}\n",
       "\n",
       "#sk-container-id-2 {\n",
       "  color: var(--sklearn-color-text);\n",
       "}\n",
       "\n",
       "#sk-container-id-2 pre {\n",
       "  padding: 0;\n",
       "}\n",
       "\n",
       "#sk-container-id-2 input.sk-hidden--visually {\n",
       "  border: 0;\n",
       "  clip: rect(1px 1px 1px 1px);\n",
       "  clip: rect(1px, 1px, 1px, 1px);\n",
       "  height: 1px;\n",
       "  margin: -1px;\n",
       "  overflow: hidden;\n",
       "  padding: 0;\n",
       "  position: absolute;\n",
       "  width: 1px;\n",
       "}\n",
       "\n",
       "#sk-container-id-2 div.sk-dashed-wrapped {\n",
       "  border: 1px dashed var(--sklearn-color-line);\n",
       "  margin: 0 0.4em 0.5em 0.4em;\n",
       "  box-sizing: border-box;\n",
       "  padding-bottom: 0.4em;\n",
       "  background-color: var(--sklearn-color-background);\n",
       "}\n",
       "\n",
       "#sk-container-id-2 div.sk-container {\n",
       "  /* jupyter's `normalize.less` sets `[hidden] { display: none; }`\n",
       "     but bootstrap.min.css set `[hidden] { display: none !important; }`\n",
       "     so we also need the `!important` here to be able to override the\n",
       "     default hidden behavior on the sphinx rendered scikit-learn.org.\n",
       "     See: https://github.com/scikit-learn/scikit-learn/issues/21755 */\n",
       "  display: inline-block !important;\n",
       "  position: relative;\n",
       "}\n",
       "\n",
       "#sk-container-id-2 div.sk-text-repr-fallback {\n",
       "  display: none;\n",
       "}\n",
       "\n",
       "div.sk-parallel-item,\n",
       "div.sk-serial,\n",
       "div.sk-item {\n",
       "  /* draw centered vertical line to link estimators */\n",
       "  background-image: linear-gradient(var(--sklearn-color-text-on-default-background), var(--sklearn-color-text-on-default-background));\n",
       "  background-size: 2px 100%;\n",
       "  background-repeat: no-repeat;\n",
       "  background-position: center center;\n",
       "}\n",
       "\n",
       "/* Parallel-specific style estimator block */\n",
       "\n",
       "#sk-container-id-2 div.sk-parallel-item::after {\n",
       "  content: \"\";\n",
       "  width: 100%;\n",
       "  border-bottom: 2px solid var(--sklearn-color-text-on-default-background);\n",
       "  flex-grow: 1;\n",
       "}\n",
       "\n",
       "#sk-container-id-2 div.sk-parallel {\n",
       "  display: flex;\n",
       "  align-items: stretch;\n",
       "  justify-content: center;\n",
       "  background-color: var(--sklearn-color-background);\n",
       "  position: relative;\n",
       "}\n",
       "\n",
       "#sk-container-id-2 div.sk-parallel-item {\n",
       "  display: flex;\n",
       "  flex-direction: column;\n",
       "}\n",
       "\n",
       "#sk-container-id-2 div.sk-parallel-item:first-child::after {\n",
       "  align-self: flex-end;\n",
       "  width: 50%;\n",
       "}\n",
       "\n",
       "#sk-container-id-2 div.sk-parallel-item:last-child::after {\n",
       "  align-self: flex-start;\n",
       "  width: 50%;\n",
       "}\n",
       "\n",
       "#sk-container-id-2 div.sk-parallel-item:only-child::after {\n",
       "  width: 0;\n",
       "}\n",
       "\n",
       "/* Serial-specific style estimator block */\n",
       "\n",
       "#sk-container-id-2 div.sk-serial {\n",
       "  display: flex;\n",
       "  flex-direction: column;\n",
       "  align-items: center;\n",
       "  background-color: var(--sklearn-color-background);\n",
       "  padding-right: 1em;\n",
       "  padding-left: 1em;\n",
       "}\n",
       "\n",
       "\n",
       "/* Toggleable style: style used for estimator/Pipeline/ColumnTransformer box that is\n",
       "clickable and can be expanded/collapsed.\n",
       "- Pipeline and ColumnTransformer use this feature and define the default style\n",
       "- Estimators will overwrite some part of the style using the `sk-estimator` class\n",
       "*/\n",
       "\n",
       "/* Pipeline and ColumnTransformer style (default) */\n",
       "\n",
       "#sk-container-id-2 div.sk-toggleable {\n",
       "  /* Default theme specific background. It is overwritten whether we have a\n",
       "  specific estimator or a Pipeline/ColumnTransformer */\n",
       "  background-color: var(--sklearn-color-background);\n",
       "}\n",
       "\n",
       "/* Toggleable label */\n",
       "#sk-container-id-2 label.sk-toggleable__label {\n",
       "  cursor: pointer;\n",
       "  display: flex;\n",
       "  width: 100%;\n",
       "  margin-bottom: 0;\n",
       "  padding: 0.5em;\n",
       "  box-sizing: border-box;\n",
       "  text-align: center;\n",
       "  align-items: start;\n",
       "  justify-content: space-between;\n",
       "  gap: 0.5em;\n",
       "}\n",
       "\n",
       "#sk-container-id-2 label.sk-toggleable__label .caption {\n",
       "  font-size: 0.6rem;\n",
       "  font-weight: lighter;\n",
       "  color: var(--sklearn-color-text-muted);\n",
       "}\n",
       "\n",
       "#sk-container-id-2 label.sk-toggleable__label-arrow:before {\n",
       "  /* Arrow on the left of the label */\n",
       "  content: \"▸\";\n",
       "  float: left;\n",
       "  margin-right: 0.25em;\n",
       "  color: var(--sklearn-color-icon);\n",
       "}\n",
       "\n",
       "#sk-container-id-2 label.sk-toggleable__label-arrow:hover:before {\n",
       "  color: var(--sklearn-color-text);\n",
       "}\n",
       "\n",
       "/* Toggleable content - dropdown */\n",
       "\n",
       "#sk-container-id-2 div.sk-toggleable__content {\n",
       "  max-height: 0;\n",
       "  max-width: 0;\n",
       "  overflow: hidden;\n",
       "  text-align: left;\n",
       "  /* unfitted */\n",
       "  background-color: var(--sklearn-color-unfitted-level-0);\n",
       "}\n",
       "\n",
       "#sk-container-id-2 div.sk-toggleable__content.fitted {\n",
       "  /* fitted */\n",
       "  background-color: var(--sklearn-color-fitted-level-0);\n",
       "}\n",
       "\n",
       "#sk-container-id-2 div.sk-toggleable__content pre {\n",
       "  margin: 0.2em;\n",
       "  border-radius: 0.25em;\n",
       "  color: var(--sklearn-color-text);\n",
       "  /* unfitted */\n",
       "  background-color: var(--sklearn-color-unfitted-level-0);\n",
       "}\n",
       "\n",
       "#sk-container-id-2 div.sk-toggleable__content.fitted pre {\n",
       "  /* unfitted */\n",
       "  background-color: var(--sklearn-color-fitted-level-0);\n",
       "}\n",
       "\n",
       "#sk-container-id-2 input.sk-toggleable__control:checked~div.sk-toggleable__content {\n",
       "  /* Expand drop-down */\n",
       "  max-height: 200px;\n",
       "  max-width: 100%;\n",
       "  overflow: auto;\n",
       "}\n",
       "\n",
       "#sk-container-id-2 input.sk-toggleable__control:checked~label.sk-toggleable__label-arrow:before {\n",
       "  content: \"▾\";\n",
       "}\n",
       "\n",
       "/* Pipeline/ColumnTransformer-specific style */\n",
       "\n",
       "#sk-container-id-2 div.sk-label input.sk-toggleable__control:checked~label.sk-toggleable__label {\n",
       "  color: var(--sklearn-color-text);\n",
       "  background-color: var(--sklearn-color-unfitted-level-2);\n",
       "}\n",
       "\n",
       "#sk-container-id-2 div.sk-label.fitted input.sk-toggleable__control:checked~label.sk-toggleable__label {\n",
       "  background-color: var(--sklearn-color-fitted-level-2);\n",
       "}\n",
       "\n",
       "/* Estimator-specific style */\n",
       "\n",
       "/* Colorize estimator box */\n",
       "#sk-container-id-2 div.sk-estimator input.sk-toggleable__control:checked~label.sk-toggleable__label {\n",
       "  /* unfitted */\n",
       "  background-color: var(--sklearn-color-unfitted-level-2);\n",
       "}\n",
       "\n",
       "#sk-container-id-2 div.sk-estimator.fitted input.sk-toggleable__control:checked~label.sk-toggleable__label {\n",
       "  /* fitted */\n",
       "  background-color: var(--sklearn-color-fitted-level-2);\n",
       "}\n",
       "\n",
       "#sk-container-id-2 div.sk-label label.sk-toggleable__label,\n",
       "#sk-container-id-2 div.sk-label label {\n",
       "  /* The background is the default theme color */\n",
       "  color: var(--sklearn-color-text-on-default-background);\n",
       "}\n",
       "\n",
       "/* On hover, darken the color of the background */\n",
       "#sk-container-id-2 div.sk-label:hover label.sk-toggleable__label {\n",
       "  color: var(--sklearn-color-text);\n",
       "  background-color: var(--sklearn-color-unfitted-level-2);\n",
       "}\n",
       "\n",
       "/* Label box, darken color on hover, fitted */\n",
       "#sk-container-id-2 div.sk-label.fitted:hover label.sk-toggleable__label.fitted {\n",
       "  color: var(--sklearn-color-text);\n",
       "  background-color: var(--sklearn-color-fitted-level-2);\n",
       "}\n",
       "\n",
       "/* Estimator label */\n",
       "\n",
       "#sk-container-id-2 div.sk-label label {\n",
       "  font-family: monospace;\n",
       "  font-weight: bold;\n",
       "  display: inline-block;\n",
       "  line-height: 1.2em;\n",
       "}\n",
       "\n",
       "#sk-container-id-2 div.sk-label-container {\n",
       "  text-align: center;\n",
       "}\n",
       "\n",
       "/* Estimator-specific */\n",
       "#sk-container-id-2 div.sk-estimator {\n",
       "  font-family: monospace;\n",
       "  border: 1px dotted var(--sklearn-color-border-box);\n",
       "  border-radius: 0.25em;\n",
       "  box-sizing: border-box;\n",
       "  margin-bottom: 0.5em;\n",
       "  /* unfitted */\n",
       "  background-color: var(--sklearn-color-unfitted-level-0);\n",
       "}\n",
       "\n",
       "#sk-container-id-2 div.sk-estimator.fitted {\n",
       "  /* fitted */\n",
       "  background-color: var(--sklearn-color-fitted-level-0);\n",
       "}\n",
       "\n",
       "/* on hover */\n",
       "#sk-container-id-2 div.sk-estimator:hover {\n",
       "  /* unfitted */\n",
       "  background-color: var(--sklearn-color-unfitted-level-2);\n",
       "}\n",
       "\n",
       "#sk-container-id-2 div.sk-estimator.fitted:hover {\n",
       "  /* fitted */\n",
       "  background-color: var(--sklearn-color-fitted-level-2);\n",
       "}\n",
       "\n",
       "/* Specification for estimator info (e.g. \"i\" and \"?\") */\n",
       "\n",
       "/* Common style for \"i\" and \"?\" */\n",
       "\n",
       ".sk-estimator-doc-link,\n",
       "a:link.sk-estimator-doc-link,\n",
       "a:visited.sk-estimator-doc-link {\n",
       "  float: right;\n",
       "  font-size: smaller;\n",
       "  line-height: 1em;\n",
       "  font-family: monospace;\n",
       "  background-color: var(--sklearn-color-background);\n",
       "  border-radius: 1em;\n",
       "  height: 1em;\n",
       "  width: 1em;\n",
       "  text-decoration: none !important;\n",
       "  margin-left: 0.5em;\n",
       "  text-align: center;\n",
       "  /* unfitted */\n",
       "  border: var(--sklearn-color-unfitted-level-1) 1pt solid;\n",
       "  color: var(--sklearn-color-unfitted-level-1);\n",
       "}\n",
       "\n",
       ".sk-estimator-doc-link.fitted,\n",
       "a:link.sk-estimator-doc-link.fitted,\n",
       "a:visited.sk-estimator-doc-link.fitted {\n",
       "  /* fitted */\n",
       "  border: var(--sklearn-color-fitted-level-1) 1pt solid;\n",
       "  color: var(--sklearn-color-fitted-level-1);\n",
       "}\n",
       "\n",
       "/* On hover */\n",
       "div.sk-estimator:hover .sk-estimator-doc-link:hover,\n",
       ".sk-estimator-doc-link:hover,\n",
       "div.sk-label-container:hover .sk-estimator-doc-link:hover,\n",
       ".sk-estimator-doc-link:hover {\n",
       "  /* unfitted */\n",
       "  background-color: var(--sklearn-color-unfitted-level-3);\n",
       "  color: var(--sklearn-color-background);\n",
       "  text-decoration: none;\n",
       "}\n",
       "\n",
       "div.sk-estimator.fitted:hover .sk-estimator-doc-link.fitted:hover,\n",
       ".sk-estimator-doc-link.fitted:hover,\n",
       "div.sk-label-container:hover .sk-estimator-doc-link.fitted:hover,\n",
       ".sk-estimator-doc-link.fitted:hover {\n",
       "  /* fitted */\n",
       "  background-color: var(--sklearn-color-fitted-level-3);\n",
       "  color: var(--sklearn-color-background);\n",
       "  text-decoration: none;\n",
       "}\n",
       "\n",
       "/* Span, style for the box shown on hovering the info icon */\n",
       ".sk-estimator-doc-link span {\n",
       "  display: none;\n",
       "  z-index: 9999;\n",
       "  position: relative;\n",
       "  font-weight: normal;\n",
       "  right: .2ex;\n",
       "  padding: .5ex;\n",
       "  margin: .5ex;\n",
       "  width: min-content;\n",
       "  min-width: 20ex;\n",
       "  max-width: 50ex;\n",
       "  color: var(--sklearn-color-text);\n",
       "  box-shadow: 2pt 2pt 4pt #999;\n",
       "  /* unfitted */\n",
       "  background: var(--sklearn-color-unfitted-level-0);\n",
       "  border: .5pt solid var(--sklearn-color-unfitted-level-3);\n",
       "}\n",
       "\n",
       ".sk-estimator-doc-link.fitted span {\n",
       "  /* fitted */\n",
       "  background: var(--sklearn-color-fitted-level-0);\n",
       "  border: var(--sklearn-color-fitted-level-3);\n",
       "}\n",
       "\n",
       ".sk-estimator-doc-link:hover span {\n",
       "  display: block;\n",
       "}\n",
       "\n",
       "/* \"?\"-specific style due to the `<a>` HTML tag */\n",
       "\n",
       "#sk-container-id-2 a.estimator_doc_link {\n",
       "  float: right;\n",
       "  font-size: 1rem;\n",
       "  line-height: 1em;\n",
       "  font-family: monospace;\n",
       "  background-color: var(--sklearn-color-background);\n",
       "  border-radius: 1rem;\n",
       "  height: 1rem;\n",
       "  width: 1rem;\n",
       "  text-decoration: none;\n",
       "  /* unfitted */\n",
       "  color: var(--sklearn-color-unfitted-level-1);\n",
       "  border: var(--sklearn-color-unfitted-level-1) 1pt solid;\n",
       "}\n",
       "\n",
       "#sk-container-id-2 a.estimator_doc_link.fitted {\n",
       "  /* fitted */\n",
       "  border: var(--sklearn-color-fitted-level-1) 1pt solid;\n",
       "  color: var(--sklearn-color-fitted-level-1);\n",
       "}\n",
       "\n",
       "/* On hover */\n",
       "#sk-container-id-2 a.estimator_doc_link:hover {\n",
       "  /* unfitted */\n",
       "  background-color: var(--sklearn-color-unfitted-level-3);\n",
       "  color: var(--sklearn-color-background);\n",
       "  text-decoration: none;\n",
       "}\n",
       "\n",
       "#sk-container-id-2 a.estimator_doc_link.fitted:hover {\n",
       "  /* fitted */\n",
       "  background-color: var(--sklearn-color-fitted-level-3);\n",
       "}\n",
       "</style><div id=\"sk-container-id-2\" class=\"sk-top-container\"><div class=\"sk-text-repr-fallback\"><pre>DecisionTreeClassifier(criterion=&#x27;entropy&#x27;, max_depth=1)</pre><b>In a Jupyter environment, please rerun this cell to show the HTML representation or trust the notebook. <br />On GitHub, the HTML representation is unable to render, please try loading this page with nbviewer.org.</b></div><div class=\"sk-container\" hidden><div class=\"sk-item\"><div class=\"sk-estimator fitted sk-toggleable\"><input class=\"sk-toggleable__control sk-hidden--visually\" id=\"sk-estimator-id-2\" type=\"checkbox\" checked><label for=\"sk-estimator-id-2\" class=\"sk-toggleable__label fitted sk-toggleable__label-arrow\"><div><div>DecisionTreeClassifier</div></div><div><a class=\"sk-estimator-doc-link fitted\" rel=\"noreferrer\" target=\"_blank\" href=\"https://scikit-learn.org/1.6/modules/generated/sklearn.tree.DecisionTreeClassifier.html\">?<span>Documentation for DecisionTreeClassifier</span></a><span class=\"sk-estimator-doc-link fitted\">i<span>Fitted</span></span></div></label><div class=\"sk-toggleable__content fitted\"><pre>DecisionTreeClassifier(criterion=&#x27;entropy&#x27;, max_depth=1)</pre></div> </div></div></div></div>"
      ]
     },
     "execution_count": 73,
     "metadata": {},
     "output_type": "execute_result"
    }
   ],
   "execution_count": 73
  },
  {
   "cell_type": "markdown",
   "metadata": {
    "id": "4pOhOoo1r8cD"
   },
   "source": [
    "<b>Exercise 6:</b>\n",
    "* Calculate the predictions for all instances from the training set (use the function predict). Which instances are misclassified? Create a plot that shows which instances are correctly classified and which instances are misclassified. This figure should look like this:\n",
    "\n",
    "<img src=\"./figures/dec.png\" width=\"600\"/>\n",
    "\n",
    "* Can you find learning parameters for the decision tree classifier (max_depth,min_samples_leaf,max_leaf_nodes,...) to get a classifier that classifies all instances correctly?"
   ]
  },
  {
   "cell_type": "code",
   "metadata": {
    "id": "7xJJyNClr8cD",
    "ExecuteTime": {
     "end_time": "2025-04-28T12:48:56.488573Z",
     "start_time": "2025-04-28T12:48:55.838939Z"
    }
   },
   "source": [
    "### WRITE YOUR CODE HERE ###\n",
    "predicted_labels = clf_tree.predict(X)\n",
    "\n",
    "mispredicted_points = X[predicted_labels != label]\n",
    "first_group = X[label== 1]\n",
    "second_group = X[label == 0]\n",
    "plt.scatter(first_group[:, 0], first_group[:, 1], label=\"first class\")\n",
    "plt.scatter(second_group[:, 0], second_group[:, 1], label=\"second class\")\n",
    "plt.scatter(mispredicted_points[:, 0], mispredicted_points[:, 1], label=\"mispredicted points\")\n",
    "plt.legend(loc='best')\n",
    "plt.show()"
   ],
   "outputs": [
    {
     "data": {
      "text/plain": [
       "<Figure size 640x480 with 1 Axes>"
      ],
      "image/png": "[encoded data removed]"
     },
     "metadata": {},
     "output_type": "display_data"
    }
   ],
   "execution_count": 80
  }
 ],
 "metadata": {
  "kernelspec": {
   "display_name": "Python 3",
   "language": "python",
   "name": "python3"
  },
  "language_info": {
   "codemirror_mode": {
    "name": "ipython",
    "version": 3
   },
   "file_extension": ".py",
   "mimetype": "text/x-python",
   "name": "python",
   "nbconvert_exporter": "python",
   "pygments_lexer": "ipython3",
   "version": "3.8.5"
  },
  "colab": {
   "name": "Lab04_DecisionTrees.ipynb",
   "provenance": []
  }
 },
 "nbformat": 4,
 "nbformat_minor": 0
}
